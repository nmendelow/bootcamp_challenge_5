{
 "cells": [
  {
   "cell_type": "markdown",
   "metadata": {},
   "source": [
    "# Financial Planning with APIs and Simulations\n",
    "\n",
    "In this Challenge, you’ll create two financial analysis tools by using a single Jupyter notebook:\n",
    "\n",
    "Part 1: A financial planner for emergencies. The members will be able to use this tool to visualize their current savings. The members can then determine if they have enough reserves for an emergency fund.\n",
    "\n",
    "Part 2: A financial planner for retirement. This tool will forecast the performance of their retirement portfolio in 30 years. To do this, the tool will make an Alpaca API call via the Alpaca SDK to get historical price data for use in Monte Carlo simulations.\n",
    "\n",
    "You’ll use the information from the Monte Carlo simulation to answer questions about the portfolio in your Jupyter notebook.\n",
    "\n"
   ]
  },
  {
   "cell_type": "code",
   "execution_count": 1,
   "metadata": {},
   "outputs": [],
   "source": [
    "# Import the required libraries and dependencies\n",
    "import os\n",
    "import requests\n",
    "import json\n",
    "import pandas as pd\n",
    "from dotenv import load_dotenv\n",
    "import alpaca_trade_api as tradeapi\n",
    "from MCForecastTools import MCSimulation\n",
    "import matplotlib.pyplot as plt\n",
    "import numpy as np\n",
    "\n",
    "%matplotlib inline"
   ]
  },
  {
   "cell_type": "code",
   "execution_count": 2,
   "metadata": {},
   "outputs": [
    {
     "data": {
      "text/plain": [
       "True"
      ]
     },
     "execution_count": 2,
     "metadata": {},
     "output_type": "execute_result"
    }
   ],
   "source": [
    "# Load the environment variables from the .env file\n",
    "#by calling the load_dotenv function\n",
    "load_dotenv()"
   ]
  },
  {
   "cell_type": "markdown",
   "metadata": {},
   "source": [
    "## Part 1: Create a Financial Planner for Emergencies"
   ]
  },
  {
   "cell_type": "markdown",
   "metadata": {},
   "source": [
    "### Evaluate the Cryptocurrency Wallet by Using the Requests Library\n",
    "\n",
    "In this section, you’ll determine the current value of a member’s cryptocurrency wallet. You’ll collect the current prices for the Bitcoin and Ethereum cryptocurrencies by using the Python Requests library. For the prototype, you’ll assume that the member holds the 1.2 Bitcoins (BTC) and 5.3 Ethereum coins (ETH). To do all this, complete the following steps:\n",
    "\n",
    "1. Create a variable named `monthly_income`, and set its value to `12000`.\n",
    "\n",
    "2. Use the Requests library to get the current price (in US dollars) of Bitcoin (BTC) and Ethereum (ETH) by using the API endpoints that the starter code supplies.\n",
    "\n",
    "3. Navigate the JSON response object to access the current price of each coin, and store each in a variable.\n",
    "\n",
    "    > **Hint** Note the specific identifier for each cryptocurrency in the API JSON response. The Bitcoin identifier is `1`, and the Ethereum identifier is `1027`.\n",
    "\n",
    "4. Calculate the value, in US dollars, of the current amount of each cryptocurrency and of the entire cryptocurrency wallet.\n",
    "\n"
   ]
  },
  {
   "cell_type": "code",
   "execution_count": 3,
   "metadata": {},
   "outputs": [],
   "source": [
    "# The current number of coins for each cryptocurrency asset held in the portfolio.\n",
    "btc_coins = 1.2\n",
    "eth_coins = 5.3"
   ]
  },
  {
   "cell_type": "markdown",
   "metadata": {},
   "source": [
    "#### Step 1: Create a variable named `monthly_income`, and set its value to `12000`."
   ]
  },
  {
   "cell_type": "code",
   "execution_count": 4,
   "metadata": {},
   "outputs": [],
   "source": [
    "# The monthly amount for the member's household income\n",
    "monthly_income = 12000\n"
   ]
  },
  {
   "cell_type": "markdown",
   "metadata": {},
   "source": [
    "#### Review the endpoint URLs for the API calls to Free Crypto API in order to get the current pricing information for both BTC and ETH."
   ]
  },
  {
   "cell_type": "code",
   "execution_count": 5,
   "metadata": {},
   "outputs": [],
   "source": [
    "# The Free Crypto API Call endpoint URLs for the held cryptocurrency assets\n",
    "btc_url = \"https://api.alternative.me/v2/ticker/Bitcoin/?convert=USD\"\n",
    "eth_url = \"https://api.alternative.me/v2/ticker/Ethereum/?convert=USD\""
   ]
  },
  {
   "cell_type": "markdown",
   "metadata": {},
   "source": [
    "#### Step 2. Use the Requests library to get the current price (in US dollars) of Bitcoin (BTC) and Ethereum (ETH) by using the API endpoints that the starter code supplied."
   ]
  },
  {
   "cell_type": "code",
   "execution_count": 6,
   "metadata": {},
   "outputs": [
    {
     "name": "stdout",
     "output_type": "stream",
     "text": [
      "{\n",
      "    \"data\": {\n",
      "        \"1\": {\n",
      "            \"circulating_supply\": 18942718,\n",
      "            \"id\": 1,\n",
      "            \"last_updated\": 1643424229,\n",
      "            \"max_supply\": 21000000,\n",
      "            \"name\": \"Bitcoin\",\n",
      "            \"quotes\": {\n",
      "                \"USD\": {\n",
      "                    \"market_cap\": 712903448219,\n",
      "                    \"percent_change_1h\": -0.232564536360844,\n",
      "                    \"percent_change_24h\": 1.87056272763141,\n",
      "                    \"percent_change_7d\": 2.91548619916605,\n",
      "                    \"percentage_change_1h\": -0.232564536360844,\n",
      "                    \"percentage_change_24h\": 1.87056272763141,\n",
      "                    \"percentage_change_7d\": 2.91548619916605,\n",
      "                    \"price\": 37573.0,\n",
      "                    \"volume_24h\": 18125937119\n",
      "                }\n",
      "            },\n",
      "            \"rank\": 1,\n",
      "            \"symbol\": \"BTC\",\n",
      "            \"total_supply\": 18942718,\n",
      "            \"website_slug\": \"bitcoin\"\n",
      "        }\n",
      "    },\n",
      "    \"metadata\": {\n",
      "        \"error\": null,\n",
      "        \"num_cryptocurrencies\": 3105,\n",
      "        \"timestamp\": 1643424229\n",
      "    }\n",
      "}\n"
     ]
    }
   ],
   "source": [
    "# Using the Python requests library, make an API call to access the current price of BTC\n",
    "btc_response = requests.get(btc_url).json()\n",
    "\n",
    "# Use the json.dumps function to review the response data from the API call\n",
    "# Use the indent and sort_keys parameters to make the response object readable\n",
    "print(json.dumps(btc_response, indent=4, sort_keys=True))\n"
   ]
  },
  {
   "cell_type": "code",
   "execution_count": 7,
   "metadata": {},
   "outputs": [
    {
     "name": "stdout",
     "output_type": "stream",
     "text": [
      "{\n",
      "    \"data\": {\n",
      "        \"1027\": {\n",
      "            \"circulating_supply\": 119354092,\n",
      "            \"id\": 1027,\n",
      "            \"last_updated\": 1643424225,\n",
      "            \"max_supply\": 0,\n",
      "            \"name\": \"Ethereum\",\n",
      "            \"quotes\": {\n",
      "                \"USD\": {\n",
      "                    \"market_cap\": 302979115132,\n",
      "                    \"percent_change_1h\": -0.17671078239179,\n",
      "                    \"percent_change_24h\": 5.87991501662762,\n",
      "                    \"percent_change_7d\": -1.199294091787,\n",
      "                    \"percentage_change_1h\": -0.17671078239179,\n",
      "                    \"percentage_change_24h\": 5.87991501662762,\n",
      "                    \"percentage_change_7d\": -1.199294091787,\n",
      "                    \"price\": 2533.59,\n",
      "                    \"volume_24h\": 13883264256\n",
      "                }\n",
      "            },\n",
      "            \"rank\": 2,\n",
      "            \"symbol\": \"ETH\",\n",
      "            \"total_supply\": 119354092,\n",
      "            \"website_slug\": \"ethereum\"\n",
      "        }\n",
      "    },\n",
      "    \"metadata\": {\n",
      "        \"error\": null,\n",
      "        \"num_cryptocurrencies\": 3105,\n",
      "        \"timestamp\": 1643424225\n",
      "    }\n",
      "}\n"
     ]
    }
   ],
   "source": [
    "# Using the Python requests library, make an API call to access the current price ETH\n",
    "eth_response = requests.get(eth_url).json()\n",
    "\n",
    "# Use the json.dumps function to review the response data from the API call\n",
    "# Use the indent and sort_keys parameters to make the response object readable\n",
    "print(json.dumps(eth_response, indent=4, sort_keys=True))\n"
   ]
  },
  {
   "cell_type": "markdown",
   "metadata": {},
   "source": [
    "#### Step 3: Navigate the JSON response object to access the current price of each coin, and store each in a variable."
   ]
  },
  {
   "cell_type": "code",
   "execution_count": 8,
   "metadata": {},
   "outputs": [
    {
     "name": "stdout",
     "output_type": "stream",
     "text": [
      "The current price of Bitcoin is $37573.0\n"
     ]
    }
   ],
   "source": [
    "# Navigate the BTC response object to access the current price of BTC\n",
    "btc_price = btc_response['data']['1']['quotes']['USD']['price']\n",
    "\n",
    "# Print the current price of BTC\n",
    "print(f\"The current price of Bitcoin is ${btc_price}\")\n"
   ]
  },
  {
   "cell_type": "code",
   "execution_count": 9,
   "metadata": {},
   "outputs": [
    {
     "name": "stdout",
     "output_type": "stream",
     "text": [
      "The current price of Etherium is $2533.59\n"
     ]
    }
   ],
   "source": [
    "# Navigate the BTC response object to access the current price of ETH\n",
    "eth_price = eth_response['data']['1027']['quotes']['USD']['price']\n",
    "\n",
    "# Print the current price of ETH\n",
    "print(f\"The current price of Etherium is ${eth_price}\")\n"
   ]
  },
  {
   "cell_type": "markdown",
   "metadata": {},
   "source": [
    "### Step 4: Calculate the value, in US dollars, of the current amount of each cryptocurrency and of the entire cryptocurrency wallet."
   ]
  },
  {
   "cell_type": "code",
   "execution_count": 10,
   "metadata": {},
   "outputs": [
    {
     "name": "stdout",
     "output_type": "stream",
     "text": [
      " You currently have 1.2 Bitcoin which are worth $37573.0 each. That values your total Bitcoin holdings at: $45087.6\n"
     ]
    }
   ],
   "source": [
    "# Compute the current value of the BTC holding \n",
    "btc_value = btc_coins * btc_price\n",
    "\n",
    "# Print current value of your holding in BTC\n",
    "print(f\" You currently have {btc_coins} Bitcoin which are worth ${btc_price} each. That values your total Bitcoin holdings at: ${btc_value}\")\n"
   ]
  },
  {
   "cell_type": "code",
   "execution_count": 11,
   "metadata": {},
   "outputs": [
    {
     "name": "stdout",
     "output_type": "stream",
     "text": [
      " You currently have 5.3 Etherium which are worth $2533.59 each. That values your total Etherium holdings at: $13428.027\n"
     ]
    }
   ],
   "source": [
    "# Compute the current value of the ETH holding \n",
    "eth_value = eth_coins * eth_price\n",
    "\n",
    "# Print current value of your holding in ETH\n",
    "print(f\" You currently have {eth_coins} Etherium which are worth ${eth_price} each. That values your total Etherium holdings at: ${eth_value}\")\n"
   ]
  },
  {
   "cell_type": "code",
   "execution_count": 12,
   "metadata": {},
   "outputs": [
    {
     "name": "stdout",
     "output_type": "stream",
     "text": [
      "Your total crypto wallet is currently worth $58515.627\n"
     ]
    }
   ],
   "source": [
    "# Compute the total value of the cryptocurrency wallet\n",
    "# Add the value of the BTC holding to the value of the ETH holding\n",
    "total_crypto_wallet = btc_value + eth_value\n",
    "\n",
    "# Print current cryptocurrency wallet balance\n",
    "print(f\"Your total crypto wallet is currently worth ${total_crypto_wallet}\")\n"
   ]
  },
  {
   "cell_type": "markdown",
   "metadata": {},
   "source": [
    "### Evaluate the Stock and Bond Holdings by Using the Alpaca SDK\n",
    "\n",
    "In this section, you’ll determine the current value of a member’s stock and bond holdings. You’ll make an API call to Alpaca via the Alpaca SDK to get the current closing prices of the SPDR S&P 500 ETF Trust (ticker: SPY) and of the iShares Core US Aggregate Bond ETF (ticker: AGG). For the prototype, assume that the member holds 110 shares of SPY, which represents the stock portion of their portfolio, and 200 shares of AGG, which represents the bond portion. To do all this, complete the following steps:\n",
    "\n",
    "1. In the `Starter_Code` folder, create an environment file (`.env`) to store the values of your Alpaca API key and Alpaca secret key.\n",
    "\n",
    "2. Set the variables for the Alpaca API and secret keys. Using the Alpaca SDK, create the Alpaca `tradeapi.REST` object. In this object, include the parameters for the Alpaca API key, the secret key, and the version number.\n",
    "\n",
    "3. Set the following parameters for the Alpaca API call:\n",
    "\n",
    "    - `tickers`: Use the tickers for the member’s stock and bond holdings.\n",
    "\n",
    "    - `timeframe`: Use a time frame of one day.\n",
    "\n",
    "    - `start_date` and `end_date`: Use the same date for these parameters, and format them with the date of the previous weekday (or `2020-08-07`). This is because you want the one closing price for the most-recent trading day.\n",
    "\n",
    "4. Get the current closing prices for `SPY` and `AGG` by using the Alpaca `get_barset` function. Format the response as a Pandas DataFrame by including the `df` property at the end of the `get_barset` function.\n",
    "\n",
    "5. Navigating the Alpaca response DataFrame, select the `SPY` and `AGG` closing prices, and store them as variables.\n",
    "\n",
    "6. Calculate the value, in US dollars, of the current amount of shares in each of the stock and bond portions of the portfolio, and print the results.\n"
   ]
  },
  {
   "cell_type": "markdown",
   "metadata": {},
   "source": [
    "#### Review the total number of shares held in both (SPY) and (AGG)."
   ]
  },
  {
   "cell_type": "code",
   "execution_count": 13,
   "metadata": {},
   "outputs": [],
   "source": [
    "# Current amount of shares held in both the stock (SPY) and bond (AGG) portion of the portfolio.\n",
    "spy_shares = 110\n",
    "agg_shares = 200\n"
   ]
  },
  {
   "cell_type": "markdown",
   "metadata": {},
   "source": [
    "#### Step 1: In the `Starter_Code` folder, create an environment file (`.env`) to store the values of your Alpaca API key and Alpaca secret key."
   ]
  },
  {
   "cell_type": "markdown",
   "metadata": {},
   "source": [
    "#### Step 2: Set the variables for the Alpaca API and secret keys. Using the Alpaca SDK, create the Alpaca `tradeapi.REST` object. In this object, include the parameters for the Alpaca API key, the secret key, and the version number."
   ]
  },
  {
   "cell_type": "code",
   "execution_count": 14,
   "metadata": {},
   "outputs": [],
   "source": [
    "# Set the variables for the Alpaca API and secret keys\n",
    "alpaca_api_key = os.getenv(\"ALPACA_API_KEY\")\n",
    "alpaca_secret_key = os.getenv(\"ALPACA_SECRET_KEY\")\n",
    "\n",
    "# Create the Alpaca tradeapi.REST object\n",
    "alpaca = tradeapi.REST(\n",
    "    alpaca_api_key,\n",
    "    alpaca_secret_key,\n",
    "    api_version=\"v2\")\n"
   ]
  },
  {
   "cell_type": "markdown",
   "metadata": {},
   "source": [
    "#### Step 3: Set the following parameters for the Alpaca API call:\n",
    "\n",
    "- `tickers`: Use the tickers for the member’s stock and bond holdings.\n",
    "\n",
    "- `timeframe`: Use a time frame of one day.\n",
    "\n",
    "- `start_date` and `end_date`: Use the same date for these parameters, and format them with the date of the previous weekday (or `2020-08-07`). This is because you want the one closing price for the most-recent trading day.\n"
   ]
  },
  {
   "cell_type": "code",
   "execution_count": 15,
   "metadata": {},
   "outputs": [],
   "source": [
    "# Set the tickers for both the bond and stock portion of the portfolio\n",
    "tickers = ['AGG', 'SPY']\n",
    "\n",
    "# Set timeframe to 1D \n",
    "timeframe = \"1D\"\n",
    "\n",
    "# Format current date as ISO format\n",
    "# Set both the start and end date at the date of your prior weekday \n",
    "# This will give you the closing price of the previous trading day\n",
    "# Alternatively you can use a start and end date of 2020-08-07\n",
    "start_date = pd.Timestamp(\"2022-01-28\", tz=\"America/New_York\").isoformat()\n",
    "end_date = pd.Timestamp(\"2022-01-28\", tz=\"America/New_York\").isoformat()\n"
   ]
  },
  {
   "cell_type": "markdown",
   "metadata": {},
   "source": [
    "#### Step 4: Get the current closing prices for `SPY` and `AGG` by using the Alpaca `get_barset` function. Format the response as a Pandas DataFrame by including the `df` property at the end of the `get_barset` function."
   ]
  },
  {
   "cell_type": "code",
   "execution_count": 16,
   "metadata": {},
   "outputs": [
    {
     "data": {
      "text/html": [
       "<div>\n",
       "<style scoped>\n",
       "    .dataframe tbody tr th:only-of-type {\n",
       "        vertical-align: middle;\n",
       "    }\n",
       "\n",
       "    .dataframe tbody tr th {\n",
       "        vertical-align: top;\n",
       "    }\n",
       "\n",
       "    .dataframe thead tr th {\n",
       "        text-align: left;\n",
       "    }\n",
       "\n",
       "    .dataframe thead tr:last-of-type th {\n",
       "        text-align: right;\n",
       "    }\n",
       "</style>\n",
       "<table border=\"1\" class=\"dataframe\">\n",
       "  <thead>\n",
       "    <tr>\n",
       "      <th></th>\n",
       "      <th colspan=\"5\" halign=\"left\">AGG</th>\n",
       "      <th colspan=\"5\" halign=\"left\">SPY</th>\n",
       "    </tr>\n",
       "    <tr>\n",
       "      <th></th>\n",
       "      <th>open</th>\n",
       "      <th>high</th>\n",
       "      <th>low</th>\n",
       "      <th>close</th>\n",
       "      <th>volume</th>\n",
       "      <th>open</th>\n",
       "      <th>high</th>\n",
       "      <th>low</th>\n",
       "      <th>close</th>\n",
       "      <th>volume</th>\n",
       "    </tr>\n",
       "    <tr>\n",
       "      <th>time</th>\n",
       "      <th></th>\n",
       "      <th></th>\n",
       "      <th></th>\n",
       "      <th></th>\n",
       "      <th></th>\n",
       "      <th></th>\n",
       "      <th></th>\n",
       "      <th></th>\n",
       "      <th></th>\n",
       "      <th></th>\n",
       "    </tr>\n",
       "  </thead>\n",
       "  <tbody>\n",
       "    <tr>\n",
       "      <th>2022-01-28 00:00:00-05:00</th>\n",
       "      <td>111.46</td>\n",
       "      <td>111.86</td>\n",
       "      <td>111.44</td>\n",
       "      <td>111.81</td>\n",
       "      <td>10400422</td>\n",
       "      <td>432.7</td>\n",
       "      <td>442</td>\n",
       "      <td>427.82</td>\n",
       "      <td>441.92</td>\n",
       "      <td>142062305</td>\n",
       "    </tr>\n",
       "  </tbody>\n",
       "</table>\n",
       "</div>"
      ],
      "text/plain": [
       "                              AGG                                      SPY  \\\n",
       "                             open    high     low   close    volume   open   \n",
       "time                                                                         \n",
       "2022-01-28 00:00:00-05:00  111.46  111.86  111.44  111.81  10400422  432.7   \n",
       "\n",
       "                                                           \n",
       "                          high     low   close     volume  \n",
       "time                                                       \n",
       "2022-01-28 00:00:00-05:00  442  427.82  441.92  142062305  "
      ]
     },
     "execution_count": 16,
     "metadata": {},
     "output_type": "execute_result"
    }
   ],
   "source": [
    "# Use the Alpaca get_barset function to get current closing prices the portfolio\n",
    "# Be sure to set the `df` property after the function to format the response object as a DataFrame\n",
    "df_portfolio = alpaca.get_barset(\n",
    "    tickers,\n",
    "    timeframe,\n",
    "    start = start_date,\n",
    "    end = end_date\n",
    ").df\n",
    "\n",
    "# Review the first 5 rows of the Alpaca DataFrame\n",
    "df_portfolio.head()\n"
   ]
  },
  {
   "cell_type": "markdown",
   "metadata": {},
   "source": [
    "#### Step 5: Navigating the Alpaca response DataFrame, select the `SPY` and `AGG` closing prices, and store them as variables."
   ]
  },
  {
   "cell_type": "code",
   "execution_count": 17,
   "metadata": {},
   "outputs": [
    {
     "name": "stdout",
     "output_type": "stream",
     "text": [
      "The closing price of AGG on 01-21-2022 was $111.81\n"
     ]
    }
   ],
   "source": [
    "# Access the closing price for AGG from the Alpaca DataFrame\n",
    "# Converting the value to a floating point number\n",
    "agg_close_price = float(df_portfolio[\"AGG\"][\"close\"])\n",
    "\n",
    "# Print the AGG closing price\n",
    "print(f\"The closing price of AGG on 01-21-2022 was ${agg_close_price}\")\n"
   ]
  },
  {
   "cell_type": "code",
   "execution_count": 18,
   "metadata": {},
   "outputs": [
    {
     "name": "stdout",
     "output_type": "stream",
     "text": [
      "The closing price of SPY on 01-21-2022 was $441.92\n"
     ]
    }
   ],
   "source": [
    "# Access the closing price for SPY from the Alpaca DataFrame\n",
    "# Converting the value to a floating point number\n",
    "spy_close_price = float(df_portfolio[\"SPY\"][\"close\"])\n",
    "\n",
    "# Print the SPY closing price\n",
    "print(f\"The closing price of SPY on 01-21-2022 was ${spy_close_price}\")\n"
   ]
  },
  {
   "cell_type": "markdown",
   "metadata": {},
   "source": [
    "#### Step 6: Calculate the value, in US dollars, of the current amount of shares in each of the stock and bond portions of the portfolio, and print the results."
   ]
  },
  {
   "cell_type": "code",
   "execution_count": 19,
   "metadata": {},
   "outputs": [
    {
     "name": "stdout",
     "output_type": "stream",
     "text": [
      "The current value of the bond portolio is $ 22362.00\n"
     ]
    }
   ],
   "source": [
    "# Calculate the current value of the bond portion of the portfolio\n",
    "agg_value = agg_shares * agg_close_price\n",
    "\n",
    "# Print the current value of the bond portfolio\n",
    "print(f\"The current value of the bond portolio is ${agg_value: .2f}\")\n"
   ]
  },
  {
   "cell_type": "code",
   "execution_count": 20,
   "metadata": {},
   "outputs": [
    {
     "name": "stdout",
     "output_type": "stream",
     "text": [
      "The current value of the stock portolio is $ 48611.20\n"
     ]
    }
   ],
   "source": [
    "# Calculate the current value of the stock portion of the portfolio\n",
    "spy_value = spy_shares * spy_close_price\n",
    "# Print the current value of the stock portfolio\n",
    "print(f\"The current value of the stock portolio is ${spy_value: .2f}\")\n"
   ]
  },
  {
   "cell_type": "code",
   "execution_count": 21,
   "metadata": {},
   "outputs": [
    {
     "name": "stdout",
     "output_type": "stream",
     "text": [
      "The current value of the combined stock and bond portolio is $ 70973.20\n"
     ]
    }
   ],
   "source": [
    "# Calculate the total value of the stock and bond portion of the portfolio\n",
    "total_stocks_bonds = agg_value + spy_value\n",
    "# Print the current balance of the stock and bond portion of the portfolio\n",
    "print(f\"The current value of the combined stock and bond portolio is ${total_stocks_bonds: .2f}\")"
   ]
  },
  {
   "cell_type": "code",
   "execution_count": 22,
   "metadata": {},
   "outputs": [
    {
     "name": "stdout",
     "output_type": "stream",
     "text": [
      "The current value of the entire portolio (including crypto) is $ 129488.83\n"
     ]
    }
   ],
   "source": [
    "# Calculate the total value of the member's entire savings portfolio\n",
    "# Add the value of the cryptocurrency walled to the value of the total stocks and bonds\n",
    "total_portfolio = total_crypto_wallet + total_stocks_bonds\n",
    "\n",
    "# Print current cryptocurrency wallet balance\n",
    "print(f\"The current value of the entire portolio (including crypto) is ${total_portfolio: .2f}\")\n"
   ]
  },
  {
   "cell_type": "markdown",
   "metadata": {},
   "source": [
    "### Evaluate the Emergency Fund\n",
    "\n",
    "In this section, you’ll use the valuations for the cryptocurrency wallet and for the stock and bond portions of the portfolio to determine if the credit union member has enough savings to build an emergency fund into their financial plan. To do this, complete the following steps:\n",
    "\n",
    "1. Create a Python list named `savings_data` that has two elements. The first element contains the total value of the cryptocurrency wallet. The second element contains the total value of the stock and bond portions of the portfolio.\n",
    "\n",
    "2. Use the `savings_data` list to create a Pandas DataFrame named `savings_df`, and then display this DataFrame. The function to create the DataFrame should take the following three parameters:\n",
    "\n",
    "    - `savings_data`: Use the list that you just created.\n",
    "\n",
    "    - `columns`: Set this parameter equal to a Python list with a single value called `amount`.\n",
    "\n",
    "    - `index`: Set this parameter equal to a Python list with the values of `crypto` and `stock/bond`.\n",
    "\n",
    "3. Use the `savings_df` DataFrame to plot a pie chart that visualizes the composition of the member’s portfolio. The y-axis of the pie chart uses `amount`. Be sure to add a title.\n",
    "\n",
    "4. Using Python, determine if the current portfolio has enough to create an emergency fund as part of the member’s financial plan. Ideally, an emergency fund should equal to three times the member’s monthly income. To do this, implement the following steps:\n",
    "\n",
    "    1. Create a variable named `emergency_fund_value`, and set it equal to three times the value of the member’s `monthly_income` of $12000. (You set this earlier in Part 1).\n",
    "\n",
    "    2. Create a series of three if statements to determine if the member’s total portfolio is large enough to fund the emergency portfolio:\n",
    "\n",
    "        1. If the total portfolio value is greater than the emergency fund value, display a message congratulating the member for having enough money in this fund.\n",
    "\n",
    "        2. Else if the total portfolio value is equal to the emergency fund value, display a message congratulating the member on reaching this important financial goal.\n",
    "\n",
    "        3. Else the total portfolio is less than the emergency fund value, so display a message showing how many dollars away the member is from reaching the goal. (Subtract the total portfolio value from the emergency fund value.)\n"
   ]
  },
  {
   "cell_type": "markdown",
   "metadata": {},
   "source": [
    "#### Step 1: Create a Python list named `savings_data` that has two elements. The first element contains the total value of the cryptocurrency wallet. The second element contains the total value of the stock and bond portions of the portfolio."
   ]
  },
  {
   "cell_type": "code",
   "execution_count": 23,
   "metadata": {},
   "outputs": [
    {
     "data": {
      "text/plain": [
       "[58515.627, 70973.20000000001]"
      ]
     },
     "execution_count": 23,
     "metadata": {},
     "output_type": "execute_result"
    }
   ],
   "source": [
    "# Consolidate financial assets data into a Python list\n",
    "savings_data = []\n",
    "savings_data.append(total_crypto_wallet)\n",
    "savings_data.append(total_stocks_bonds)\n",
    "# Review the Python list savings_data\n",
    "savings_data\n",
    "    "
   ]
  },
  {
   "cell_type": "markdown",
   "metadata": {},
   "source": [
    "#### Step 2: Use the `savings_data` list to create a Pandas DataFrame named `savings_df`, and then display this DataFrame. The function to create the DataFrame should take the following three parameters:\n",
    "\n",
    "- `savings_data`: Use the list that you just created.\n",
    "\n",
    "- `columns`: Set this parameter equal to a Python list with a single value called `amount`.\n",
    "\n",
    "- `index`: Set this parameter equal to a Python list with the values of `crypto` and `stock/bond`.\n"
   ]
  },
  {
   "cell_type": "code",
   "execution_count": 24,
   "metadata": {},
   "outputs": [
    {
     "data": {
      "text/html": [
       "<div>\n",
       "<style scoped>\n",
       "    .dataframe tbody tr th:only-of-type {\n",
       "        vertical-align: middle;\n",
       "    }\n",
       "\n",
       "    .dataframe tbody tr th {\n",
       "        vertical-align: top;\n",
       "    }\n",
       "\n",
       "    .dataframe thead th {\n",
       "        text-align: right;\n",
       "    }\n",
       "</style>\n",
       "<table border=\"1\" class=\"dataframe\">\n",
       "  <thead>\n",
       "    <tr style=\"text-align: right;\">\n",
       "      <th></th>\n",
       "      <th>amount</th>\n",
       "    </tr>\n",
       "  </thead>\n",
       "  <tbody>\n",
       "    <tr>\n",
       "      <th>crypto</th>\n",
       "      <td>58515.627</td>\n",
       "    </tr>\n",
       "    <tr>\n",
       "      <th>stock/bond</th>\n",
       "      <td>70973.200</td>\n",
       "    </tr>\n",
       "  </tbody>\n",
       "</table>\n",
       "</div>"
      ],
      "text/plain": [
       "               amount\n",
       "crypto      58515.627\n",
       "stock/bond  70973.200"
      ]
     },
     "execution_count": 24,
     "metadata": {},
     "output_type": "execute_result"
    }
   ],
   "source": [
    "# Create a Pandas DataFrame called savings_df \n",
    "\n",
    "savings_df = pd.DataFrame(savings_data, columns =[\"amount\"], index=[\"crypto\",\"stock/bond\"])\n",
    "\n",
    "#savings_df.set_index(\"crypto\", \"stocks/bonds\")\n",
    "#savings_df.set_index(index)\n",
    "# Display the savings_df DataFrame\n",
    "savings_df\n"
   ]
  },
  {
   "cell_type": "markdown",
   "metadata": {},
   "source": [
    "#### Step 3: Use the `savings_df` DataFrame to plot a pie chart that visualizes the composition of the member’s portfolio. The y-axis of the pie chart uses `amount`. Be sure to add a title."
   ]
  },
  {
   "cell_type": "code",
   "execution_count": 25,
   "metadata": {},
   "outputs": [
    {
     "data": {
      "text/plain": [
       "array([<AxesSubplot:ylabel='amount'>], dtype=object)"
      ]
     },
     "execution_count": 25,
     "metadata": {},
     "output_type": "execute_result"
    },
    {
     "data": {
      "image/png": "[encoded data removed]",
      "text/plain": [
       "<Figure size 432x288 with 1 Axes>"
      ]
     },
     "metadata": {},
     "output_type": "display_data"
    }
   ],
   "source": [
    "# Plot the total value of the member's portfolio (crypto and stock/bond) in a pie chart\n",
    "savings_df.plot(kind = \"pie\", subplots=True, title = \"Total Portfolio Breakout\", startangle = 65, autopct='%1.1f%%', )\n",
    "#mylabels = [\"crypto\", \"stocks/bonds\"]\n",
    "#plt.pie(savings_data, labels = mylabels, startangle =90, autopct='%1.1f%%')\n",
    "#plt.legend(title = \"portfolio components\")\n",
    "#plt.show()\n",
    "\n"
   ]
  },
  {
   "cell_type": "markdown",
   "metadata": {},
   "source": [
    "#### Step 4: Using Python, determine if the current portfolio has enough to create an emergency fund as part of the member’s financial plan. Ideally, an emergency fund should equal to three times the member’s monthly income. To do this, implement the following steps:\n",
    "\n",
    "Step 1. Create a variable named `emergency_fund_value`, and set it equal to three times the value of the member’s `monthly_income` of 12000. (You set this earlier in Part 1).\n",
    "\n",
    "Step 2. Create a series of three if statements to determine if the member’s total portfolio is large enough to fund the emergency portfolio:\n",
    "\n",
    "* If the total portfolio value is greater than the emergency fund value, display a message congratulating the member for having enough money in this fund.\n",
    "\n",
    "* Else if the total portfolio value is equal to the emergency fund value, display a message congratulating the member on reaching this important financial goal.\n",
    "\n",
    "* Else the total portfolio is less than the emergency fund value, so display a message showing how many dollars away the member is from reaching the goal. (Subtract the total portfolio value from the emergency fund value.)\n"
   ]
  },
  {
   "cell_type": "markdown",
   "metadata": {},
   "source": [
    "##### Step 4-1: Create a variable named `emergency_fund_value`, and set it equal to three times the value of the member’s `monthly_income` of 12000. (You set this earlier in Part 1)."
   ]
  },
  {
   "cell_type": "code",
   "execution_count": 26,
   "metadata": {},
   "outputs": [],
   "source": [
    "# Create a variable named emergency_fund_value\n",
    "emergency_fund_value = monthly_income * 3\n"
   ]
  },
  {
   "cell_type": "markdown",
   "metadata": {},
   "source": [
    "##### Step 4-2: Create a series of three if statements to determine if the member’s total portfolio is large enough to fund the emergency portfolio:\n",
    "\n",
    "* If the total portfolio value is greater than the emergency fund value, display a message congratulating the member for having enough money in this fund.\n",
    "\n",
    "* Else if the total portfolio value is equal to the emergency fund value, display a message congratulating the member on reaching this important financial goal.\n",
    "\n",
    "* Else the total portfolio is less than the emergency fund value, so display a message showing how many dollars away the member is from reaching the goal. (Subtract the total portfolio value from the emergency fund value.)"
   ]
  },
  {
   "cell_type": "code",
   "execution_count": 27,
   "metadata": {},
   "outputs": [
    {
     "name": "stdout",
     "output_type": "stream",
     "text": [
      "Congratulations! You've done a great job saving for a rainy day.\n"
     ]
    }
   ],
   "source": [
    "# Evaluate the possibility of creating an emergency fund with 3 conditions:\n",
    "if total_portfolio > emergency_fund_value:\n",
    "    print(\"Congratulations! You've done a great job saving for a rainy day.\")\n",
    "elif total_portfolio == emergency_fund_value:\n",
    "        print(\"Looks like you've saved enough for an emergency.\")\n",
    "else:\n",
    "        print(f\"You should try to save another $ {emergency_fund_value - total_portfolio} to account for expenses should an emergency occur.\")           \n",
    "        \n",
    "\n"
   ]
  },
  {
   "cell_type": "markdown",
   "metadata": {},
   "source": [
    "## Part 2: Create a Financial Planner for Retirement"
   ]
  },
  {
   "cell_type": "markdown",
   "metadata": {},
   "source": [
    "### Create the Monte Carlo Simulation\n",
    "\n",
    "In this section, you’ll use the MCForecastTools library to create a Monte Carlo simulation for the member’s savings portfolio. To do this, complete the following steps:\n",
    "\n",
    "1. Make an API call via the Alpaca SDK to get 3 years of historical closing prices for a traditional 60/40 portfolio split: 60% stocks (SPY) and 40% bonds (AGG).\n",
    "\n",
    "2. Run a Monte Carlo simulation of 500 samples and 30 years for the 60/40 portfolio, and then plot the results.The following image shows the overlay line plot resulting from a simulation with these characteristics. However, because a random number generator is used to run each live Monte Carlo simulation, your image will differ slightly from this exact image:\n",
    "\n",
    "![A screenshot depicts the resulting plot.](Images/5-4-monte-carlo-line-plot.png)\n",
    "\n",
    "3. Plot the probability distribution of the Monte Carlo simulation. Plot the probability distribution of the Monte Carlo simulation. The following image shows the histogram plot resulting from a simulation with these characteristics. However, because a random number generator is used to run each live Monte Carlo simulation, your image will differ slightly from this exact image:\n",
    "\n",
    "![A screenshot depicts the histogram plot.](Images/5-4-monte-carlo-histogram.png)\n",
    "\n",
    "4. Generate the summary statistics for the Monte Carlo simulation.\n",
    "\n"
   ]
  },
  {
   "cell_type": "markdown",
   "metadata": {},
   "source": [
    "#### Step 1: Make an API call via the Alpaca SDK to get 3 years of historical closing prices for a traditional 60/40 portfolio split: 60% stocks (SPY) and 40% bonds (AGG)."
   ]
  },
  {
   "cell_type": "code",
   "execution_count": 28,
   "metadata": {},
   "outputs": [],
   "source": [
    "# Set start and end dates of 3 years back from your current date\n",
    "# Alternatively, you can use an end date of 2020-08-07 and work 3 years back from that date \n",
    "start_date = pd.Timestamp(\"2019-01-28\", tz=\"America/New_York\").isoformat()\n",
    "# YOUR CODE HERE\n",
    "end_date = pd.Timestamp(\"2022-01-28\", tz=\"America/New_York\").isoformat()\n",
    "# Set number of rows to 1000 to retrieve the maximum amount of rows\n",
    "limit_rows = 1000"
   ]
  },
  {
   "cell_type": "code",
   "execution_count": 29,
   "metadata": {},
   "outputs": [
    {
     "data": {
      "text/html": [
       "<div>\n",
       "<style scoped>\n",
       "    .dataframe tbody tr th:only-of-type {\n",
       "        vertical-align: middle;\n",
       "    }\n",
       "\n",
       "    .dataframe tbody tr th {\n",
       "        vertical-align: top;\n",
       "    }\n",
       "\n",
       "    .dataframe thead tr th {\n",
       "        text-align: left;\n",
       "    }\n",
       "\n",
       "    .dataframe thead tr:last-of-type th {\n",
       "        text-align: right;\n",
       "    }\n",
       "</style>\n",
       "<table border=\"1\" class=\"dataframe\">\n",
       "  <thead>\n",
       "    <tr>\n",
       "      <th></th>\n",
       "      <th colspan=\"5\" halign=\"left\">AGG</th>\n",
       "      <th colspan=\"5\" halign=\"left\">SPY</th>\n",
       "    </tr>\n",
       "    <tr>\n",
       "      <th></th>\n",
       "      <th>open</th>\n",
       "      <th>high</th>\n",
       "      <th>low</th>\n",
       "      <th>close</th>\n",
       "      <th>volume</th>\n",
       "      <th>open</th>\n",
       "      <th>high</th>\n",
       "      <th>low</th>\n",
       "      <th>close</th>\n",
       "      <th>volume</th>\n",
       "    </tr>\n",
       "    <tr>\n",
       "      <th>time</th>\n",
       "      <th></th>\n",
       "      <th></th>\n",
       "      <th></th>\n",
       "      <th></th>\n",
       "      <th></th>\n",
       "      <th></th>\n",
       "      <th></th>\n",
       "      <th></th>\n",
       "      <th></th>\n",
       "      <th></th>\n",
       "    </tr>\n",
       "  </thead>\n",
       "  <tbody>\n",
       "    <tr>\n",
       "      <th>2019-01-28 00:00:00-05:00</th>\n",
       "      <td>106.62</td>\n",
       "      <td>106.745</td>\n",
       "      <td>106.580</td>\n",
       "      <td>106.6550</td>\n",
       "      <td>6372589</td>\n",
       "      <td>263.39</td>\n",
       "      <td>263.82</td>\n",
       "      <td>261.79</td>\n",
       "      <td>263.6350</td>\n",
       "      <td>75207990</td>\n",
       "    </tr>\n",
       "    <tr>\n",
       "      <th>2019-01-29 00:00:00-05:00</th>\n",
       "      <td>106.73</td>\n",
       "      <td>106.910</td>\n",
       "      <td>106.685</td>\n",
       "      <td>106.9063</td>\n",
       "      <td>5399892</td>\n",
       "      <td>263.92</td>\n",
       "      <td>264.55</td>\n",
       "      <td>262.48</td>\n",
       "      <td>263.3100</td>\n",
       "      <td>54249161</td>\n",
       "    </tr>\n",
       "    <tr>\n",
       "      <th>2019-01-30 00:00:00-05:00</th>\n",
       "      <td>106.79</td>\n",
       "      <td>107.140</td>\n",
       "      <td>106.790</td>\n",
       "      <td>107.1400</td>\n",
       "      <td>4948983</td>\n",
       "      <td>265.10</td>\n",
       "      <td>268.52</td>\n",
       "      <td>264.25</td>\n",
       "      <td>267.4625</td>\n",
       "      <td>75091893</td>\n",
       "    </tr>\n",
       "    <tr>\n",
       "      <th>2019-01-31 00:00:00-05:00</th>\n",
       "      <td>107.30</td>\n",
       "      <td>107.530</td>\n",
       "      <td>107.290</td>\n",
       "      <td>107.4600</td>\n",
       "      <td>11394113</td>\n",
       "      <td>267.51</td>\n",
       "      <td>270.47</td>\n",
       "      <td>267.27</td>\n",
       "      <td>270.2325</td>\n",
       "      <td>73699733</td>\n",
       "    </tr>\n",
       "    <tr>\n",
       "      <th>2019-02-01 00:00:00-05:00</th>\n",
       "      <td>107.09</td>\n",
       "      <td>107.150</td>\n",
       "      <td>106.880</td>\n",
       "      <td>106.9600</td>\n",
       "      <td>5325410</td>\n",
       "      <td>270.15</td>\n",
       "      <td>271.20</td>\n",
       "      <td>269.18</td>\n",
       "      <td>270.0700</td>\n",
       "      <td>68194167</td>\n",
       "    </tr>\n",
       "  </tbody>\n",
       "</table>\n",
       "</div>"
      ],
      "text/plain": [
       "                              AGG                                        \\\n",
       "                             open     high      low     close    volume   \n",
       "time                                                                      \n",
       "2019-01-28 00:00:00-05:00  106.62  106.745  106.580  106.6550   6372589   \n",
       "2019-01-29 00:00:00-05:00  106.73  106.910  106.685  106.9063   5399892   \n",
       "2019-01-30 00:00:00-05:00  106.79  107.140  106.790  107.1400   4948983   \n",
       "2019-01-31 00:00:00-05:00  107.30  107.530  107.290  107.4600  11394113   \n",
       "2019-02-01 00:00:00-05:00  107.09  107.150  106.880  106.9600   5325410   \n",
       "\n",
       "                              SPY                                      \n",
       "                             open    high     low     close    volume  \n",
       "time                                                                   \n",
       "2019-01-28 00:00:00-05:00  263.39  263.82  261.79  263.6350  75207990  \n",
       "2019-01-29 00:00:00-05:00  263.92  264.55  262.48  263.3100  54249161  \n",
       "2019-01-30 00:00:00-05:00  265.10  268.52  264.25  267.4625  75091893  \n",
       "2019-01-31 00:00:00-05:00  267.51  270.47  267.27  270.2325  73699733  \n",
       "2019-02-01 00:00:00-05:00  270.15  271.20  269.18  270.0700  68194167  "
      ]
     },
     "metadata": {},
     "output_type": "display_data"
    },
    {
     "data": {
      "text/html": [
       "<div>\n",
       "<style scoped>\n",
       "    .dataframe tbody tr th:only-of-type {\n",
       "        vertical-align: middle;\n",
       "    }\n",
       "\n",
       "    .dataframe tbody tr th {\n",
       "        vertical-align: top;\n",
       "    }\n",
       "\n",
       "    .dataframe thead tr th {\n",
       "        text-align: left;\n",
       "    }\n",
       "\n",
       "    .dataframe thead tr:last-of-type th {\n",
       "        text-align: right;\n",
       "    }\n",
       "</style>\n",
       "<table border=\"1\" class=\"dataframe\">\n",
       "  <thead>\n",
       "    <tr>\n",
       "      <th></th>\n",
       "      <th colspan=\"5\" halign=\"left\">AGG</th>\n",
       "      <th colspan=\"5\" halign=\"left\">SPY</th>\n",
       "    </tr>\n",
       "    <tr>\n",
       "      <th></th>\n",
       "      <th>open</th>\n",
       "      <th>high</th>\n",
       "      <th>low</th>\n",
       "      <th>close</th>\n",
       "      <th>volume</th>\n",
       "      <th>open</th>\n",
       "      <th>high</th>\n",
       "      <th>low</th>\n",
       "      <th>close</th>\n",
       "      <th>volume</th>\n",
       "    </tr>\n",
       "    <tr>\n",
       "      <th>time</th>\n",
       "      <th></th>\n",
       "      <th></th>\n",
       "      <th></th>\n",
       "      <th></th>\n",
       "      <th></th>\n",
       "      <th></th>\n",
       "      <th></th>\n",
       "      <th></th>\n",
       "      <th></th>\n",
       "      <th></th>\n",
       "    </tr>\n",
       "  </thead>\n",
       "  <tbody>\n",
       "    <tr>\n",
       "      <th>2022-01-24 00:00:00-05:00</th>\n",
       "      <td>112.3814</td>\n",
       "      <td>112.42</td>\n",
       "      <td>112.10</td>\n",
       "      <td>112.12</td>\n",
       "      <td>10666672</td>\n",
       "      <td>432.03</td>\n",
       "      <td>440.38</td>\n",
       "      <td>420.76</td>\n",
       "      <td>439.88</td>\n",
       "      <td>233026938</td>\n",
       "    </tr>\n",
       "    <tr>\n",
       "      <th>2022-01-25 00:00:00-05:00</th>\n",
       "      <td>112.1800</td>\n",
       "      <td>112.30</td>\n",
       "      <td>111.96</td>\n",
       "      <td>112.00</td>\n",
       "      <td>9392367</td>\n",
       "      <td>433.06</td>\n",
       "      <td>439.72</td>\n",
       "      <td>364.68</td>\n",
       "      <td>434.51</td>\n",
       "      <td>148023735</td>\n",
       "    </tr>\n",
       "    <tr>\n",
       "      <th>2022-01-26 00:00:00-05:00</th>\n",
       "      <td>112.0600</td>\n",
       "      <td>112.13</td>\n",
       "      <td>111.36</td>\n",
       "      <td>111.36</td>\n",
       "      <td>10170465</td>\n",
       "      <td>440.72</td>\n",
       "      <td>444.04</td>\n",
       "      <td>428.86</td>\n",
       "      <td>433.45</td>\n",
       "      <td>174214548</td>\n",
       "    </tr>\n",
       "    <tr>\n",
       "      <th>2022-01-27 00:00:00-05:00</th>\n",
       "      <td>111.6200</td>\n",
       "      <td>111.88</td>\n",
       "      <td>111.62</td>\n",
       "      <td>111.72</td>\n",
       "      <td>5836124</td>\n",
       "      <td>438.26</td>\n",
       "      <td>441.58</td>\n",
       "      <td>429.45</td>\n",
       "      <td>431.27</td>\n",
       "      <td>136251597</td>\n",
       "    </tr>\n",
       "    <tr>\n",
       "      <th>2022-01-28 00:00:00-05:00</th>\n",
       "      <td>111.4600</td>\n",
       "      <td>111.86</td>\n",
       "      <td>111.44</td>\n",
       "      <td>111.81</td>\n",
       "      <td>10400422</td>\n",
       "      <td>432.70</td>\n",
       "      <td>442.00</td>\n",
       "      <td>427.82</td>\n",
       "      <td>441.92</td>\n",
       "      <td>142062305</td>\n",
       "    </tr>\n",
       "  </tbody>\n",
       "</table>\n",
       "</div>"
      ],
      "text/plain": [
       "                                AGG                                       SPY  \\\n",
       "                               open    high     low   close    volume    open   \n",
       "time                                                                            \n",
       "2022-01-24 00:00:00-05:00  112.3814  112.42  112.10  112.12  10666672  432.03   \n",
       "2022-01-25 00:00:00-05:00  112.1800  112.30  111.96  112.00   9392367  433.06   \n",
       "2022-01-26 00:00:00-05:00  112.0600  112.13  111.36  111.36  10170465  440.72   \n",
       "2022-01-27 00:00:00-05:00  111.6200  111.88  111.62  111.72   5836124  438.26   \n",
       "2022-01-28 00:00:00-05:00  111.4600  111.86  111.44  111.81  10400422  432.70   \n",
       "\n",
       "                                                              \n",
       "                             high     low   close     volume  \n",
       "time                                                          \n",
       "2022-01-24 00:00:00-05:00  440.38  420.76  439.88  233026938  \n",
       "2022-01-25 00:00:00-05:00  439.72  364.68  434.51  148023735  \n",
       "2022-01-26 00:00:00-05:00  444.04  428.86  433.45  174214548  \n",
       "2022-01-27 00:00:00-05:00  441.58  429.45  431.27  136251597  \n",
       "2022-01-28 00:00:00-05:00  442.00  427.82  441.92  142062305  "
      ]
     },
     "metadata": {},
     "output_type": "display_data"
    }
   ],
   "source": [
    "# Use the Alpaca get_barset function to make the API call to get the 3 years worth of pricing data\n",
    "# The tickers and timeframe parameters should have been set in Part 1 of this activity \n",
    "# The start and end dates should be updated with the information set above\n",
    "# Remember to add the df property to the end of the call so the response is returned as a DataFrame\n",
    "portfolio_df = alpaca.get_barset(\n",
    "    tickers,\n",
    "    timeframe,\n",
    "    start = start_date,\n",
    "    end = end_date,\n",
    "    limit = limit_rows\n",
    ").df\n",
    "\n",
    "\n",
    "# Display both the first and last five rows of the DataFrame\n",
    "display(portfolio_df.head())\n",
    "# YOUR CODE HERE\n",
    "display(portfolio_df.tail())"
   ]
  },
  {
   "cell_type": "markdown",
   "metadata": {},
   "source": [
    "#### Step 2: Run a Monte Carlo simulation of 500 samples and 30 years for the 60/40 portfolio, and then plot the results."
   ]
  },
  {
   "cell_type": "code",
   "execution_count": 30,
   "metadata": {},
   "outputs": [
    {
     "data": {
      "text/html": [
       "<div>\n",
       "<style scoped>\n",
       "    .dataframe tbody tr th:only-of-type {\n",
       "        vertical-align: middle;\n",
       "    }\n",
       "\n",
       "    .dataframe tbody tr th {\n",
       "        vertical-align: top;\n",
       "    }\n",
       "\n",
       "    .dataframe thead tr th {\n",
       "        text-align: left;\n",
       "    }\n",
       "\n",
       "    .dataframe thead tr:last-of-type th {\n",
       "        text-align: right;\n",
       "    }\n",
       "</style>\n",
       "<table border=\"1\" class=\"dataframe\">\n",
       "  <thead>\n",
       "    <tr>\n",
       "      <th></th>\n",
       "      <th colspan=\"6\" halign=\"left\">AGG</th>\n",
       "      <th colspan=\"6\" halign=\"left\">SPY</th>\n",
       "    </tr>\n",
       "    <tr>\n",
       "      <th></th>\n",
       "      <th>open</th>\n",
       "      <th>high</th>\n",
       "      <th>low</th>\n",
       "      <th>close</th>\n",
       "      <th>volume</th>\n",
       "      <th>daily_return</th>\n",
       "      <th>open</th>\n",
       "      <th>high</th>\n",
       "      <th>low</th>\n",
       "      <th>close</th>\n",
       "      <th>volume</th>\n",
       "      <th>daily_return</th>\n",
       "    </tr>\n",
       "    <tr>\n",
       "      <th>time</th>\n",
       "      <th></th>\n",
       "      <th></th>\n",
       "      <th></th>\n",
       "      <th></th>\n",
       "      <th></th>\n",
       "      <th></th>\n",
       "      <th></th>\n",
       "      <th></th>\n",
       "      <th></th>\n",
       "      <th></th>\n",
       "      <th></th>\n",
       "      <th></th>\n",
       "    </tr>\n",
       "  </thead>\n",
       "  <tbody>\n",
       "    <tr>\n",
       "      <th>2019-01-28 00:00:00-05:00</th>\n",
       "      <td>106.62</td>\n",
       "      <td>106.745</td>\n",
       "      <td>106.580</td>\n",
       "      <td>106.6550</td>\n",
       "      <td>6372589</td>\n",
       "      <td>NaN</td>\n",
       "      <td>263.39</td>\n",
       "      <td>263.82</td>\n",
       "      <td>261.79</td>\n",
       "      <td>263.6350</td>\n",
       "      <td>75207990</td>\n",
       "      <td>NaN</td>\n",
       "    </tr>\n",
       "    <tr>\n",
       "      <th>2019-01-29 00:00:00-05:00</th>\n",
       "      <td>106.73</td>\n",
       "      <td>106.910</td>\n",
       "      <td>106.685</td>\n",
       "      <td>106.9063</td>\n",
       "      <td>5399892</td>\n",
       "      <td>0.002356</td>\n",
       "      <td>263.92</td>\n",
       "      <td>264.55</td>\n",
       "      <td>262.48</td>\n",
       "      <td>263.3100</td>\n",
       "      <td>54249161</td>\n",
       "      <td>-0.001233</td>\n",
       "    </tr>\n",
       "    <tr>\n",
       "      <th>2019-01-30 00:00:00-05:00</th>\n",
       "      <td>106.79</td>\n",
       "      <td>107.140</td>\n",
       "      <td>106.790</td>\n",
       "      <td>107.1400</td>\n",
       "      <td>4948983</td>\n",
       "      <td>0.002186</td>\n",
       "      <td>265.10</td>\n",
       "      <td>268.52</td>\n",
       "      <td>264.25</td>\n",
       "      <td>267.4625</td>\n",
       "      <td>75091893</td>\n",
       "      <td>0.015770</td>\n",
       "    </tr>\n",
       "    <tr>\n",
       "      <th>2019-01-31 00:00:00-05:00</th>\n",
       "      <td>107.30</td>\n",
       "      <td>107.530</td>\n",
       "      <td>107.290</td>\n",
       "      <td>107.4600</td>\n",
       "      <td>11394113</td>\n",
       "      <td>0.002987</td>\n",
       "      <td>267.51</td>\n",
       "      <td>270.47</td>\n",
       "      <td>267.27</td>\n",
       "      <td>270.2325</td>\n",
       "      <td>73699733</td>\n",
       "      <td>0.010357</td>\n",
       "    </tr>\n",
       "    <tr>\n",
       "      <th>2019-02-01 00:00:00-05:00</th>\n",
       "      <td>107.09</td>\n",
       "      <td>107.150</td>\n",
       "      <td>106.880</td>\n",
       "      <td>106.9600</td>\n",
       "      <td>5325410</td>\n",
       "      <td>-0.004653</td>\n",
       "      <td>270.15</td>\n",
       "      <td>271.20</td>\n",
       "      <td>269.18</td>\n",
       "      <td>270.0700</td>\n",
       "      <td>68194167</td>\n",
       "      <td>-0.000601</td>\n",
       "    </tr>\n",
       "  </tbody>\n",
       "</table>\n",
       "</div>"
      ],
      "text/plain": [
       "                              AGG                                        \\\n",
       "                             open     high      low     close    volume   \n",
       "time                                                                      \n",
       "2019-01-28 00:00:00-05:00  106.62  106.745  106.580  106.6550   6372589   \n",
       "2019-01-29 00:00:00-05:00  106.73  106.910  106.685  106.9063   5399892   \n",
       "2019-01-30 00:00:00-05:00  106.79  107.140  106.790  107.1400   4948983   \n",
       "2019-01-31 00:00:00-05:00  107.30  107.530  107.290  107.4600  11394113   \n",
       "2019-02-01 00:00:00-05:00  107.09  107.150  106.880  106.9600   5325410   \n",
       "\n",
       "                                           SPY                            \\\n",
       "                          daily_return    open    high     low     close   \n",
       "time                                                                       \n",
       "2019-01-28 00:00:00-05:00          NaN  263.39  263.82  261.79  263.6350   \n",
       "2019-01-29 00:00:00-05:00     0.002356  263.92  264.55  262.48  263.3100   \n",
       "2019-01-30 00:00:00-05:00     0.002186  265.10  268.52  264.25  267.4625   \n",
       "2019-01-31 00:00:00-05:00     0.002987  267.51  270.47  267.27  270.2325   \n",
       "2019-02-01 00:00:00-05:00    -0.004653  270.15  271.20  269.18  270.0700   \n",
       "\n",
       "                                                  \n",
       "                             volume daily_return  \n",
       "time                                              \n",
       "2019-01-28 00:00:00-05:00  75207990          NaN  \n",
       "2019-01-29 00:00:00-05:00  54249161    -0.001233  \n",
       "2019-01-30 00:00:00-05:00  75091893     0.015770  \n",
       "2019-01-31 00:00:00-05:00  73699733     0.010357  \n",
       "2019-02-01 00:00:00-05:00  68194167    -0.000601  "
      ]
     },
     "execution_count": 30,
     "metadata": {},
     "output_type": "execute_result"
    }
   ],
   "source": [
    "# Configure the Monte Carlo simulation to forecast 30 years cumulative returns\n",
    "# The weights should be split 40% to AGG and 60% to SPY.\n",
    "# Run 500 samples.\n",
    "MC_thirty_year = MCSimulation(\n",
    "    portfolio_data = portfolio_df,\n",
    "    weights = [.40, .60],\n",
    "    num_simulation = 500,\n",
    "    num_trading_days = 252*30\n",
    ")\n",
    "# Review the simulation input data\n",
    "MC_thirty_year.portfolio_data.head()\n"
   ]
  },
  {
   "cell_type": "code",
   "execution_count": 31,
   "metadata": {},
   "outputs": [
    {
     "name": "stdout",
     "output_type": "stream",
     "text": [
      "Running Monte Carlo simulation number 0.\n",
      "Running Monte Carlo simulation number 10.\n",
      "Running Monte Carlo simulation number 20.\n",
      "Running Monte Carlo simulation number 30.\n",
      "Running Monte Carlo simulation number 40.\n",
      "Running Monte Carlo simulation number 50.\n",
      "Running Monte Carlo simulation number 60.\n",
      "Running Monte Carlo simulation number 70.\n",
      "Running Monte Carlo simulation number 80.\n",
      "Running Monte Carlo simulation number 90.\n",
      "Running Monte Carlo simulation number 100.\n"
     ]
    },
    {
     "name": "stderr",
     "output_type": "stream",
     "text": [
      "C:\\Users\\nmend\\desktop\\bootcamp\\challenges\\challenge_5\\bootcamp_challenge_5\\MCForecastTools.py:117: PerformanceWarning: DataFrame is highly fragmented.  This is usually the result of calling `frame.insert` many times, which has poor performance.  Consider joining all columns at once using pd.concat(axis=1) instead.  To get a de-fragmented frame, use `newframe = frame.copy()`\n",
      "  portfolio_cumulative_returns[n] = (1 + sim_df.fillna(0)).cumprod()\n"
     ]
    },
    {
     "name": "stdout",
     "output_type": "stream",
     "text": [
      "Running Monte Carlo simulation number 110.\n",
      "Running Monte Carlo simulation number 120.\n",
      "Running Monte Carlo simulation number 130.\n",
      "Running Monte Carlo simulation number 140.\n",
      "Running Monte Carlo simulation number 150.\n",
      "Running Monte Carlo simulation number 160.\n",
      "Running Monte Carlo simulation number 170.\n",
      "Running Monte Carlo simulation number 180.\n",
      "Running Monte Carlo simulation number 190.\n",
      "Running Monte Carlo simulation number 200.\n",
      "Running Monte Carlo simulation number 210.\n",
      "Running Monte Carlo simulation number 220.\n",
      "Running Monte Carlo simulation number 230.\n",
      "Running Monte Carlo simulation number 240.\n",
      "Running Monte Carlo simulation number 250.\n",
      "Running Monte Carlo simulation number 260.\n",
      "Running Monte Carlo simulation number 270.\n",
      "Running Monte Carlo simulation number 280.\n",
      "Running Monte Carlo simulation number 290.\n",
      "Running Monte Carlo simulation number 300.\n",
      "Running Monte Carlo simulation number 310.\n",
      "Running Monte Carlo simulation number 320.\n",
      "Running Monte Carlo simulation number 330.\n",
      "Running Monte Carlo simulation number 340.\n",
      "Running Monte Carlo simulation number 350.\n",
      "Running Monte Carlo simulation number 360.\n",
      "Running Monte Carlo simulation number 370.\n",
      "Running Monte Carlo simulation number 380.\n",
      "Running Monte Carlo simulation number 390.\n",
      "Running Monte Carlo simulation number 400.\n",
      "Running Monte Carlo simulation number 410.\n",
      "Running Monte Carlo simulation number 420.\n",
      "Running Monte Carlo simulation number 430.\n",
      "Running Monte Carlo simulation number 440.\n",
      "Running Monte Carlo simulation number 450.\n",
      "Running Monte Carlo simulation number 460.\n",
      "Running Monte Carlo simulation number 470.\n",
      "Running Monte Carlo simulation number 480.\n",
      "Running Monte Carlo simulation number 490.\n"
     ]
    },
    {
     "data": {
      "text/html": [
       "<div>\n",
       "<style scoped>\n",
       "    .dataframe tbody tr th:only-of-type {\n",
       "        vertical-align: middle;\n",
       "    }\n",
       "\n",
       "    .dataframe tbody tr th {\n",
       "        vertical-align: top;\n",
       "    }\n",
       "\n",
       "    .dataframe thead th {\n",
       "        text-align: right;\n",
       "    }\n",
       "</style>\n",
       "<table border=\"1\" class=\"dataframe\">\n",
       "  <thead>\n",
       "    <tr style=\"text-align: right;\">\n",
       "      <th></th>\n",
       "      <th>0</th>\n",
       "      <th>1</th>\n",
       "      <th>2</th>\n",
       "      <th>3</th>\n",
       "      <th>4</th>\n",
       "      <th>5</th>\n",
       "      <th>6</th>\n",
       "      <th>7</th>\n",
       "      <th>8</th>\n",
       "      <th>9</th>\n",
       "      <th>...</th>\n",
       "      <th>490</th>\n",
       "      <th>491</th>\n",
       "      <th>492</th>\n",
       "      <th>493</th>\n",
       "      <th>494</th>\n",
       "      <th>495</th>\n",
       "      <th>496</th>\n",
       "      <th>497</th>\n",
       "      <th>498</th>\n",
       "      <th>499</th>\n",
       "    </tr>\n",
       "  </thead>\n",
       "  <tbody>\n",
       "    <tr>\n",
       "      <th>0</th>\n",
       "      <td>1.000000</td>\n",
       "      <td>1.000000</td>\n",
       "      <td>1.000000</td>\n",
       "      <td>1.000000</td>\n",
       "      <td>1.000000</td>\n",
       "      <td>1.000000</td>\n",
       "      <td>1.000000</td>\n",
       "      <td>1.000000</td>\n",
       "      <td>1.000000</td>\n",
       "      <td>1.000000</td>\n",
       "      <td>...</td>\n",
       "      <td>1.000000</td>\n",
       "      <td>1.000000</td>\n",
       "      <td>1.000000</td>\n",
       "      <td>1.000000</td>\n",
       "      <td>1.000000</td>\n",
       "      <td>1.000000</td>\n",
       "      <td>1.000000</td>\n",
       "      <td>1.000000</td>\n",
       "      <td>1.000000</td>\n",
       "      <td>1.000000</td>\n",
       "    </tr>\n",
       "    <tr>\n",
       "      <th>1</th>\n",
       "      <td>1.004629</td>\n",
       "      <td>0.998287</td>\n",
       "      <td>1.012407</td>\n",
       "      <td>1.013866</td>\n",
       "      <td>0.998709</td>\n",
       "      <td>0.989633</td>\n",
       "      <td>1.000101</td>\n",
       "      <td>0.989410</td>\n",
       "      <td>1.004655</td>\n",
       "      <td>1.010820</td>\n",
       "      <td>...</td>\n",
       "      <td>1.003959</td>\n",
       "      <td>1.000954</td>\n",
       "      <td>0.998838</td>\n",
       "      <td>1.011936</td>\n",
       "      <td>0.995402</td>\n",
       "      <td>0.998819</td>\n",
       "      <td>0.997210</td>\n",
       "      <td>0.993176</td>\n",
       "      <td>1.007064</td>\n",
       "      <td>1.009807</td>\n",
       "    </tr>\n",
       "    <tr>\n",
       "      <th>2</th>\n",
       "      <td>1.011266</td>\n",
       "      <td>0.996883</td>\n",
       "      <td>1.009250</td>\n",
       "      <td>1.021568</td>\n",
       "      <td>0.987790</td>\n",
       "      <td>0.985556</td>\n",
       "      <td>1.002934</td>\n",
       "      <td>0.995275</td>\n",
       "      <td>1.011739</td>\n",
       "      <td>1.005641</td>\n",
       "      <td>...</td>\n",
       "      <td>0.991723</td>\n",
       "      <td>1.000598</td>\n",
       "      <td>0.993993</td>\n",
       "      <td>1.013627</td>\n",
       "      <td>0.995326</td>\n",
       "      <td>1.007356</td>\n",
       "      <td>1.005997</td>\n",
       "      <td>0.996770</td>\n",
       "      <td>1.006574</td>\n",
       "      <td>1.013917</td>\n",
       "    </tr>\n",
       "    <tr>\n",
       "      <th>3</th>\n",
       "      <td>0.995493</td>\n",
       "      <td>0.993469</td>\n",
       "      <td>1.001779</td>\n",
       "      <td>1.017427</td>\n",
       "      <td>0.982285</td>\n",
       "      <td>0.983276</td>\n",
       "      <td>1.003462</td>\n",
       "      <td>0.994038</td>\n",
       "      <td>0.995048</td>\n",
       "      <td>1.001216</td>\n",
       "      <td>...</td>\n",
       "      <td>0.996873</td>\n",
       "      <td>0.996401</td>\n",
       "      <td>0.988272</td>\n",
       "      <td>1.014766</td>\n",
       "      <td>0.987365</td>\n",
       "      <td>1.023362</td>\n",
       "      <td>1.010838</td>\n",
       "      <td>0.990131</td>\n",
       "      <td>1.024070</td>\n",
       "      <td>1.016842</td>\n",
       "    </tr>\n",
       "    <tr>\n",
       "      <th>4</th>\n",
       "      <td>0.985499</td>\n",
       "      <td>1.006878</td>\n",
       "      <td>0.990897</td>\n",
       "      <td>1.018289</td>\n",
       "      <td>0.989765</td>\n",
       "      <td>0.977599</td>\n",
       "      <td>1.017574</td>\n",
       "      <td>0.984848</td>\n",
       "      <td>0.986251</td>\n",
       "      <td>1.016646</td>\n",
       "      <td>...</td>\n",
       "      <td>0.986372</td>\n",
       "      <td>0.990071</td>\n",
       "      <td>0.988673</td>\n",
       "      <td>1.001946</td>\n",
       "      <td>0.978022</td>\n",
       "      <td>1.029882</td>\n",
       "      <td>1.008830</td>\n",
       "      <td>0.997587</td>\n",
       "      <td>1.032188</td>\n",
       "      <td>1.030473</td>\n",
       "    </tr>\n",
       "    <tr>\n",
       "      <th>...</th>\n",
       "      <td>...</td>\n",
       "      <td>...</td>\n",
       "      <td>...</td>\n",
       "      <td>...</td>\n",
       "      <td>...</td>\n",
       "      <td>...</td>\n",
       "      <td>...</td>\n",
       "      <td>...</td>\n",
       "      <td>...</td>\n",
       "      <td>...</td>\n",
       "      <td>...</td>\n",
       "      <td>...</td>\n",
       "      <td>...</td>\n",
       "      <td>...</td>\n",
       "      <td>...</td>\n",
       "      <td>...</td>\n",
       "      <td>...</td>\n",
       "      <td>...</td>\n",
       "      <td>...</td>\n",
       "      <td>...</td>\n",
       "      <td>...</td>\n",
       "    </tr>\n",
       "    <tr>\n",
       "      <th>7556</th>\n",
       "      <td>17.843074</td>\n",
       "      <td>26.463966</td>\n",
       "      <td>8.995938</td>\n",
       "      <td>31.736317</td>\n",
       "      <td>18.573194</td>\n",
       "      <td>75.956313</td>\n",
       "      <td>40.697374</td>\n",
       "      <td>26.313455</td>\n",
       "      <td>50.780635</td>\n",
       "      <td>33.368546</td>\n",
       "      <td>...</td>\n",
       "      <td>40.044767</td>\n",
       "      <td>44.425668</td>\n",
       "      <td>26.232782</td>\n",
       "      <td>67.642035</td>\n",
       "      <td>230.658257</td>\n",
       "      <td>29.509335</td>\n",
       "      <td>68.805154</td>\n",
       "      <td>33.440881</td>\n",
       "      <td>18.907626</td>\n",
       "      <td>21.989310</td>\n",
       "    </tr>\n",
       "    <tr>\n",
       "      <th>7557</th>\n",
       "      <td>17.856213</td>\n",
       "      <td>26.366599</td>\n",
       "      <td>8.905438</td>\n",
       "      <td>31.641563</td>\n",
       "      <td>18.446897</td>\n",
       "      <td>76.356179</td>\n",
       "      <td>40.811511</td>\n",
       "      <td>26.531605</td>\n",
       "      <td>50.671816</td>\n",
       "      <td>33.366131</td>\n",
       "      <td>...</td>\n",
       "      <td>40.284489</td>\n",
       "      <td>44.574072</td>\n",
       "      <td>26.198219</td>\n",
       "      <td>67.621109</td>\n",
       "      <td>230.377923</td>\n",
       "      <td>29.446386</td>\n",
       "      <td>68.165997</td>\n",
       "      <td>33.640841</td>\n",
       "      <td>18.957450</td>\n",
       "      <td>22.051745</td>\n",
       "    </tr>\n",
       "    <tr>\n",
       "      <th>7558</th>\n",
       "      <td>17.944665</td>\n",
       "      <td>26.496369</td>\n",
       "      <td>8.886687</td>\n",
       "      <td>31.990539</td>\n",
       "      <td>18.575992</td>\n",
       "      <td>76.013195</td>\n",
       "      <td>41.026217</td>\n",
       "      <td>26.912056</td>\n",
       "      <td>50.848979</td>\n",
       "      <td>33.391714</td>\n",
       "      <td>...</td>\n",
       "      <td>40.104504</td>\n",
       "      <td>44.408708</td>\n",
       "      <td>26.072627</td>\n",
       "      <td>67.714639</td>\n",
       "      <td>227.986031</td>\n",
       "      <td>29.498061</td>\n",
       "      <td>68.683745</td>\n",
       "      <td>34.058128</td>\n",
       "      <td>18.893672</td>\n",
       "      <td>22.247981</td>\n",
       "    </tr>\n",
       "    <tr>\n",
       "      <th>7559</th>\n",
       "      <td>17.876899</td>\n",
       "      <td>26.630671</td>\n",
       "      <td>8.895487</td>\n",
       "      <td>31.874737</td>\n",
       "      <td>18.521570</td>\n",
       "      <td>75.930550</td>\n",
       "      <td>40.631668</td>\n",
       "      <td>26.898763</td>\n",
       "      <td>51.041080</td>\n",
       "      <td>33.605487</td>\n",
       "      <td>...</td>\n",
       "      <td>39.884423</td>\n",
       "      <td>44.761799</td>\n",
       "      <td>26.210185</td>\n",
       "      <td>68.132558</td>\n",
       "      <td>228.407596</td>\n",
       "      <td>29.379988</td>\n",
       "      <td>68.692621</td>\n",
       "      <td>33.771388</td>\n",
       "      <td>19.056779</td>\n",
       "      <td>22.118412</td>\n",
       "    </tr>\n",
       "    <tr>\n",
       "      <th>7560</th>\n",
       "      <td>18.083878</td>\n",
       "      <td>26.883803</td>\n",
       "      <td>8.736734</td>\n",
       "      <td>31.370586</td>\n",
       "      <td>18.504971</td>\n",
       "      <td>76.042188</td>\n",
       "      <td>40.667930</td>\n",
       "      <td>27.136613</td>\n",
       "      <td>51.284166</td>\n",
       "      <td>33.235934</td>\n",
       "      <td>...</td>\n",
       "      <td>39.833911</td>\n",
       "      <td>44.782693</td>\n",
       "      <td>26.219495</td>\n",
       "      <td>67.331032</td>\n",
       "      <td>227.817096</td>\n",
       "      <td>29.241409</td>\n",
       "      <td>68.223362</td>\n",
       "      <td>33.287935</td>\n",
       "      <td>18.954011</td>\n",
       "      <td>22.161883</td>\n",
       "    </tr>\n",
       "  </tbody>\n",
       "</table>\n",
       "<p>7561 rows × 500 columns</p>\n",
       "</div>"
      ],
      "text/plain": [
       "            0          1         2          3          4          5    \\\n",
       "0      1.000000   1.000000  1.000000   1.000000   1.000000   1.000000   \n",
       "1      1.004629   0.998287  1.012407   1.013866   0.998709   0.989633   \n",
       "2      1.011266   0.996883  1.009250   1.021568   0.987790   0.985556   \n",
       "3      0.995493   0.993469  1.001779   1.017427   0.982285   0.983276   \n",
       "4      0.985499   1.006878  0.990897   1.018289   0.989765   0.977599   \n",
       "...         ...        ...       ...        ...        ...        ...   \n",
       "7556  17.843074  26.463966  8.995938  31.736317  18.573194  75.956313   \n",
       "7557  17.856213  26.366599  8.905438  31.641563  18.446897  76.356179   \n",
       "7558  17.944665  26.496369  8.886687  31.990539  18.575992  76.013195   \n",
       "7559  17.876899  26.630671  8.895487  31.874737  18.521570  75.930550   \n",
       "7560  18.083878  26.883803  8.736734  31.370586  18.504971  76.042188   \n",
       "\n",
       "            6          7          8          9    ...        490        491  \\\n",
       "0      1.000000   1.000000   1.000000   1.000000  ...   1.000000   1.000000   \n",
       "1      1.000101   0.989410   1.004655   1.010820  ...   1.003959   1.000954   \n",
       "2      1.002934   0.995275   1.011739   1.005641  ...   0.991723   1.000598   \n",
       "3      1.003462   0.994038   0.995048   1.001216  ...   0.996873   0.996401   \n",
       "4      1.017574   0.984848   0.986251   1.016646  ...   0.986372   0.990071   \n",
       "...         ...        ...        ...        ...  ...        ...        ...   \n",
       "7556  40.697374  26.313455  50.780635  33.368546  ...  40.044767  44.425668   \n",
       "7557  40.811511  26.531605  50.671816  33.366131  ...  40.284489  44.574072   \n",
       "7558  41.026217  26.912056  50.848979  33.391714  ...  40.104504  44.408708   \n",
       "7559  40.631668  26.898763  51.041080  33.605487  ...  39.884423  44.761799   \n",
       "7560  40.667930  27.136613  51.284166  33.235934  ...  39.833911  44.782693   \n",
       "\n",
       "            492        493         494        495        496        497  \\\n",
       "0      1.000000   1.000000    1.000000   1.000000   1.000000   1.000000   \n",
       "1      0.998838   1.011936    0.995402   0.998819   0.997210   0.993176   \n",
       "2      0.993993   1.013627    0.995326   1.007356   1.005997   0.996770   \n",
       "3      0.988272   1.014766    0.987365   1.023362   1.010838   0.990131   \n",
       "4      0.988673   1.001946    0.978022   1.029882   1.008830   0.997587   \n",
       "...         ...        ...         ...        ...        ...        ...   \n",
       "7556  26.232782  67.642035  230.658257  29.509335  68.805154  33.440881   \n",
       "7557  26.198219  67.621109  230.377923  29.446386  68.165997  33.640841   \n",
       "7558  26.072627  67.714639  227.986031  29.498061  68.683745  34.058128   \n",
       "7559  26.210185  68.132558  228.407596  29.379988  68.692621  33.771388   \n",
       "7560  26.219495  67.331032  227.817096  29.241409  68.223362  33.287935   \n",
       "\n",
       "            498        499  \n",
       "0      1.000000   1.000000  \n",
       "1      1.007064   1.009807  \n",
       "2      1.006574   1.013917  \n",
       "3      1.024070   1.016842  \n",
       "4      1.032188   1.030473  \n",
       "...         ...        ...  \n",
       "7556  18.907626  21.989310  \n",
       "7557  18.957450  22.051745  \n",
       "7558  18.893672  22.247981  \n",
       "7559  19.056779  22.118412  \n",
       "7560  18.954011  22.161883  \n",
       "\n",
       "[7561 rows x 500 columns]"
      ]
     },
     "execution_count": 31,
     "metadata": {},
     "output_type": "execute_result"
    }
   ],
   "source": [
    "# Run the Monte Carlo simulation to forecast 30 years cumulative returns\n",
    "MC_thirty_year.calc_cumulative_return()"
   ]
  },
  {
   "cell_type": "code",
   "execution_count": 32,
   "metadata": {},
   "outputs": [
    {
     "data": {
      "image/png": "[encoded data removed]",
      "text/plain": [
       "<Figure size 432x288 with 1 Axes>"
      ]
     },
     "metadata": {
      "needs_background": "light"
     },
     "output_type": "display_data"
    }
   ],
   "source": [
    "# Visualize the 30-year Monte Carlo simulation by creating an\n",
    "# overlay line plot\n",
    "MC_sim_line_plot = MC_thirty_year.plot_simulation()\n",
    "#saving a copy of the plot for future use\n",
    "MC_sim_line_plot.get_figure().savefig(\"MC_thirty_year_sim_plot.png\", bbox_inches=\"tight\")"
   ]
  },
  {
   "cell_type": "markdown",
   "metadata": {},
   "source": [
    "#### Step 3: Plot the probability distribution of the Monte Carlo simulation."
   ]
  },
  {
   "cell_type": "code",
   "execution_count": 33,
   "metadata": {},
   "outputs": [
    {
     "data": {
      "image/png": "[encoded data removed]",
      "text/plain": [
       "<Figure size 432x288 with 1 Axes>"
      ]
     },
     "metadata": {
      "needs_background": "light"
     },
     "output_type": "display_data"
    }
   ],
   "source": [
    "# Visualize the probability distribution of the 30-year Monte Carlo simulation \n",
    "# by plotting a histogram\n",
    "MC_sim_dist_plot = MC_thirty_year.plot_distribution()\n",
    "#save the plot for future use\n",
    "MC_sim_dist_plot.get_figure().savefig('MC_thirty_year_dist_plot.png',bbox_inches='tight')"
   ]
  },
  {
   "cell_type": "markdown",
   "metadata": {},
   "source": [
    "#### Step 4: Generate the summary statistics for the Monte Carlo simulation."
   ]
  },
  {
   "cell_type": "code",
   "execution_count": 34,
   "metadata": {},
   "outputs": [
    {
     "name": "stdout",
     "output_type": "stream",
     "text": [
      "count           500.000000\n",
      "mean             45.041953\n",
      "std              41.434343\n",
      "min               2.315050\n",
      "25%              19.310625\n",
      "50%              31.486240\n",
      "75%              56.754347\n",
      "max             385.733533\n",
      "95% CI Lower      8.253830\n",
      "95% CI Upper    150.565795\n",
      "Name: 7560, dtype: float64\n"
     ]
    }
   ],
   "source": [
    "# Generate summary statistics from the 30-year Monte Carlo simulation results\n",
    "# Save the results as a variable\n",
    "MC_summary_statistics = MC_thirty_year.summarize_cumulative_return()\n",
    "\n",
    "\n",
    "# Review the 30-year Monte Carlo summary statistics\n",
    "print(MC_summary_statistics)"
   ]
  },
  {
   "cell_type": "markdown",
   "metadata": {},
   "source": [
    "### Analyze the Retirement Portfolio Forecasts\n",
    "\n",
    "Using the current value of only the stock and bond portion of the member's portfolio and the summary statistics that you generated from the Monte Carlo simulation, answer the following question in your Jupyter notebook:\n",
    "\n",
    "-  What are the lower and upper bounds for the expected value of the portfolio with a 95% confidence interval?\n"
   ]
  },
  {
   "cell_type": "code",
   "execution_count": 35,
   "metadata": {},
   "outputs": [
    {
     "name": "stdout",
     "output_type": "stream",
     "text": [
      "The total current balance of the stock and bond portfolio is: $ 70973.20\n"
     ]
    }
   ],
   "source": [
    "# Print the current balance of the stock and bond portion of the members portfolio\n",
    "\n",
    "print(f\"The total current balance of the stock and bond portfolio is: ${total_stocks_bonds: .2f}\")\n"
   ]
  },
  {
   "cell_type": "code",
   "execution_count": 36,
   "metadata": {},
   "outputs": [
    {
     "name": "stdout",
     "output_type": "stream",
     "text": [
      " There is a 95% chance that in 30 years the value of the portfolio will lie between $ 585800.70 and $ 10686136.31.\n"
     ]
    }
   ],
   "source": [
    "# Use the lower and upper `95%` confidence intervals to calculate the range of the possible outcomes for the current stock/bond portfolio\n",
    "ci_lower_thirty_cumulative_return = total_stocks_bonds * MC_summary_statistics[8]\n",
    "ci_upper_thirty_cumulative_return = total_stocks_bonds * MC_summary_statistics[9]\n",
    "\n",
    "# Print the result of your calculations\n",
    "print(f\" There is a 95% chance that in 30 years the value of the portfolio will lie between ${ci_lower_thirty_cumulative_return: .2f} and ${ci_upper_thirty_cumulative_return: .2f}.\")\n"
   ]
  },
  {
   "cell_type": "markdown",
   "metadata": {},
   "source": [
    "### Forecast Cumulative Returns in 10 Years\n",
    "\n",
    "The CTO of the credit union is impressed with your work on these planning tools but wonders if 30 years is a long time to wait until retirement. So, your next task is to adjust the retirement portfolio and run a new Monte Carlo simulation to find out if the changes will allow members to retire earlier.\n",
    "\n",
    "For this new Monte Carlo simulation, do the following: \n",
    "\n",
    "- Forecast the cumulative returns for 10 years from now. Because of the shortened investment horizon (30 years to 10 years), the portfolio needs to invest more heavily in the riskier asset&mdash;that is, stock&mdash;to help accumulate wealth for retirement. \n",
    "\n",
    "- Adjust the weights of the retirement portfolio so that the composition for the Monte Carlo simulation consists of 20% bonds and 80% stocks. \n",
    "\n",
    "- Run the simulation over 500 samples, and use the same data that the API call to Alpaca generated.\n",
    "\n",
    "- Based on the new Monte Carlo simulation, answer the following questions in your Jupyter notebook:\n",
    "\n",
    "    - Using the current value of only the stock and bond portion of the member's portfolio and the summary statistics that you generated from the new Monte Carlo simulation, what are the lower and upper bounds for the expected value of the portfolio (with the new weights) with a 95% confidence interval?\n",
    "\n",
    "    - Will weighting the portfolio more heavily toward stocks allow the credit union members to retire after only 10 years?\n"
   ]
  },
  {
   "cell_type": "code",
   "execution_count": 37,
   "metadata": {},
   "outputs": [
    {
     "data": {
      "text/html": [
       "<div>\n",
       "<style scoped>\n",
       "    .dataframe tbody tr th:only-of-type {\n",
       "        vertical-align: middle;\n",
       "    }\n",
       "\n",
       "    .dataframe tbody tr th {\n",
       "        vertical-align: top;\n",
       "    }\n",
       "\n",
       "    .dataframe thead tr th {\n",
       "        text-align: left;\n",
       "    }\n",
       "\n",
       "    .dataframe thead tr:last-of-type th {\n",
       "        text-align: right;\n",
       "    }\n",
       "</style>\n",
       "<table border=\"1\" class=\"dataframe\">\n",
       "  <thead>\n",
       "    <tr>\n",
       "      <th></th>\n",
       "      <th colspan=\"6\" halign=\"left\">AGG</th>\n",
       "      <th colspan=\"6\" halign=\"left\">SPY</th>\n",
       "    </tr>\n",
       "    <tr>\n",
       "      <th></th>\n",
       "      <th>open</th>\n",
       "      <th>high</th>\n",
       "      <th>low</th>\n",
       "      <th>close</th>\n",
       "      <th>volume</th>\n",
       "      <th>daily_return</th>\n",
       "      <th>open</th>\n",
       "      <th>high</th>\n",
       "      <th>low</th>\n",
       "      <th>close</th>\n",
       "      <th>volume</th>\n",
       "      <th>daily_return</th>\n",
       "    </tr>\n",
       "    <tr>\n",
       "      <th>time</th>\n",
       "      <th></th>\n",
       "      <th></th>\n",
       "      <th></th>\n",
       "      <th></th>\n",
       "      <th></th>\n",
       "      <th></th>\n",
       "      <th></th>\n",
       "      <th></th>\n",
       "      <th></th>\n",
       "      <th></th>\n",
       "      <th></th>\n",
       "      <th></th>\n",
       "    </tr>\n",
       "  </thead>\n",
       "  <tbody>\n",
       "    <tr>\n",
       "      <th>2019-01-28 00:00:00-05:00</th>\n",
       "      <td>106.62</td>\n",
       "      <td>106.745</td>\n",
       "      <td>106.580</td>\n",
       "      <td>106.6550</td>\n",
       "      <td>6372589</td>\n",
       "      <td>NaN</td>\n",
       "      <td>263.39</td>\n",
       "      <td>263.82</td>\n",
       "      <td>261.79</td>\n",
       "      <td>263.6350</td>\n",
       "      <td>75207990</td>\n",
       "      <td>NaN</td>\n",
       "    </tr>\n",
       "    <tr>\n",
       "      <th>2019-01-29 00:00:00-05:00</th>\n",
       "      <td>106.73</td>\n",
       "      <td>106.910</td>\n",
       "      <td>106.685</td>\n",
       "      <td>106.9063</td>\n",
       "      <td>5399892</td>\n",
       "      <td>0.002356</td>\n",
       "      <td>263.92</td>\n",
       "      <td>264.55</td>\n",
       "      <td>262.48</td>\n",
       "      <td>263.3100</td>\n",
       "      <td>54249161</td>\n",
       "      <td>-0.001233</td>\n",
       "    </tr>\n",
       "    <tr>\n",
       "      <th>2019-01-30 00:00:00-05:00</th>\n",
       "      <td>106.79</td>\n",
       "      <td>107.140</td>\n",
       "      <td>106.790</td>\n",
       "      <td>107.1400</td>\n",
       "      <td>4948983</td>\n",
       "      <td>0.002186</td>\n",
       "      <td>265.10</td>\n",
       "      <td>268.52</td>\n",
       "      <td>264.25</td>\n",
       "      <td>267.4625</td>\n",
       "      <td>75091893</td>\n",
       "      <td>0.015770</td>\n",
       "    </tr>\n",
       "    <tr>\n",
       "      <th>2019-01-31 00:00:00-05:00</th>\n",
       "      <td>107.30</td>\n",
       "      <td>107.530</td>\n",
       "      <td>107.290</td>\n",
       "      <td>107.4600</td>\n",
       "      <td>11394113</td>\n",
       "      <td>0.002987</td>\n",
       "      <td>267.51</td>\n",
       "      <td>270.47</td>\n",
       "      <td>267.27</td>\n",
       "      <td>270.2325</td>\n",
       "      <td>73699733</td>\n",
       "      <td>0.010357</td>\n",
       "    </tr>\n",
       "    <tr>\n",
       "      <th>2019-02-01 00:00:00-05:00</th>\n",
       "      <td>107.09</td>\n",
       "      <td>107.150</td>\n",
       "      <td>106.880</td>\n",
       "      <td>106.9600</td>\n",
       "      <td>5325410</td>\n",
       "      <td>-0.004653</td>\n",
       "      <td>270.15</td>\n",
       "      <td>271.20</td>\n",
       "      <td>269.18</td>\n",
       "      <td>270.0700</td>\n",
       "      <td>68194167</td>\n",
       "      <td>-0.000601</td>\n",
       "    </tr>\n",
       "  </tbody>\n",
       "</table>\n",
       "</div>"
      ],
      "text/plain": [
       "                              AGG                                        \\\n",
       "                             open     high      low     close    volume   \n",
       "time                                                                      \n",
       "2019-01-28 00:00:00-05:00  106.62  106.745  106.580  106.6550   6372589   \n",
       "2019-01-29 00:00:00-05:00  106.73  106.910  106.685  106.9063   5399892   \n",
       "2019-01-30 00:00:00-05:00  106.79  107.140  106.790  107.1400   4948983   \n",
       "2019-01-31 00:00:00-05:00  107.30  107.530  107.290  107.4600  11394113   \n",
       "2019-02-01 00:00:00-05:00  107.09  107.150  106.880  106.9600   5325410   \n",
       "\n",
       "                                           SPY                            \\\n",
       "                          daily_return    open    high     low     close   \n",
       "time                                                                       \n",
       "2019-01-28 00:00:00-05:00          NaN  263.39  263.82  261.79  263.6350   \n",
       "2019-01-29 00:00:00-05:00     0.002356  263.92  264.55  262.48  263.3100   \n",
       "2019-01-30 00:00:00-05:00     0.002186  265.10  268.52  264.25  267.4625   \n",
       "2019-01-31 00:00:00-05:00     0.002987  267.51  270.47  267.27  270.2325   \n",
       "2019-02-01 00:00:00-05:00    -0.004653  270.15  271.20  269.18  270.0700   \n",
       "\n",
       "                                                  \n",
       "                             volume daily_return  \n",
       "time                                              \n",
       "2019-01-28 00:00:00-05:00  75207990          NaN  \n",
       "2019-01-29 00:00:00-05:00  54249161    -0.001233  \n",
       "2019-01-30 00:00:00-05:00  75091893     0.015770  \n",
       "2019-01-31 00:00:00-05:00  73699733     0.010357  \n",
       "2019-02-01 00:00:00-05:00  68194167    -0.000601  "
      ]
     },
     "execution_count": 37,
     "metadata": {},
     "output_type": "execute_result"
    }
   ],
   "source": [
    "# Configure a Monte Carlo simulation to forecast 10 years cumulative returns\n",
    "# The weights should be split 20% to AGG and 80% to SPY.\n",
    "# Run 500 samples.\n",
    "MC_ten_year = MCSimulation(\n",
    "    portfolio_data = portfolio_df,\n",
    "    weights = [.20, .80],\n",
    "    num_simulation = 500,\n",
    "    num_trading_days = 252*10\n",
    " )\n",
    "\n",
    "# Review the simulation input data\n",
    "MC_ten_year.portfolio_data.head()\n"
   ]
  },
  {
   "cell_type": "code",
   "execution_count": 38,
   "metadata": {},
   "outputs": [
    {
     "name": "stdout",
     "output_type": "stream",
     "text": [
      "Running Monte Carlo simulation number 0.\n",
      "Running Monte Carlo simulation number 10.\n",
      "Running Monte Carlo simulation number 20.\n",
      "Running Monte Carlo simulation number 30.\n",
      "Running Monte Carlo simulation number 40.\n",
      "Running Monte Carlo simulation number 50.\n",
      "Running Monte Carlo simulation number 60.\n",
      "Running Monte Carlo simulation number 70.\n",
      "Running Monte Carlo simulation number 80.\n",
      "Running Monte Carlo simulation number 90.\n",
      "Running Monte Carlo simulation number 100.\n"
     ]
    },
    {
     "name": "stderr",
     "output_type": "stream",
     "text": [
      "C:\\Users\\nmend\\desktop\\bootcamp\\challenges\\challenge_5\\bootcamp_challenge_5\\MCForecastTools.py:117: PerformanceWarning: DataFrame is highly fragmented.  This is usually the result of calling `frame.insert` many times, which has poor performance.  Consider joining all columns at once using pd.concat(axis=1) instead.  To get a de-fragmented frame, use `newframe = frame.copy()`\n",
      "  portfolio_cumulative_returns[n] = (1 + sim_df.fillna(0)).cumprod()\n"
     ]
    },
    {
     "name": "stdout",
     "output_type": "stream",
     "text": [
      "Running Monte Carlo simulation number 110.\n",
      "Running Monte Carlo simulation number 120.\n",
      "Running Monte Carlo simulation number 130.\n",
      "Running Monte Carlo simulation number 140.\n",
      "Running Monte Carlo simulation number 150.\n",
      "Running Monte Carlo simulation number 160.\n",
      "Running Monte Carlo simulation number 170.\n",
      "Running Monte Carlo simulation number 180.\n",
      "Running Monte Carlo simulation number 190.\n",
      "Running Monte Carlo simulation number 200.\n",
      "Running Monte Carlo simulation number 210.\n",
      "Running Monte Carlo simulation number 220.\n",
      "Running Monte Carlo simulation number 230.\n",
      "Running Monte Carlo simulation number 240.\n",
      "Running Monte Carlo simulation number 250.\n",
      "Running Monte Carlo simulation number 260.\n",
      "Running Monte Carlo simulation number 270.\n",
      "Running Monte Carlo simulation number 280.\n",
      "Running Monte Carlo simulation number 290.\n",
      "Running Monte Carlo simulation number 300.\n",
      "Running Monte Carlo simulation number 310.\n",
      "Running Monte Carlo simulation number 320.\n",
      "Running Monte Carlo simulation number 330.\n",
      "Running Monte Carlo simulation number 340.\n",
      "Running Monte Carlo simulation number 350.\n",
      "Running Monte Carlo simulation number 360.\n",
      "Running Monte Carlo simulation number 370.\n",
      "Running Monte Carlo simulation number 380.\n",
      "Running Monte Carlo simulation number 390.\n",
      "Running Monte Carlo simulation number 400.\n",
      "Running Monte Carlo simulation number 410.\n",
      "Running Monte Carlo simulation number 420.\n",
      "Running Monte Carlo simulation number 430.\n",
      "Running Monte Carlo simulation number 440.\n",
      "Running Monte Carlo simulation number 450.\n",
      "Running Monte Carlo simulation number 460.\n",
      "Running Monte Carlo simulation number 470.\n",
      "Running Monte Carlo simulation number 480.\n",
      "Running Monte Carlo simulation number 490.\n"
     ]
    },
    {
     "data": {
      "text/html": [
       "<div>\n",
       "<style scoped>\n",
       "    .dataframe tbody tr th:only-of-type {\n",
       "        vertical-align: middle;\n",
       "    }\n",
       "\n",
       "    .dataframe tbody tr th {\n",
       "        vertical-align: top;\n",
       "    }\n",
       "\n",
       "    .dataframe thead th {\n",
       "        text-align: right;\n",
       "    }\n",
       "</style>\n",
       "<table border=\"1\" class=\"dataframe\">\n",
       "  <thead>\n",
       "    <tr style=\"text-align: right;\">\n",
       "      <th></th>\n",
       "      <th>0</th>\n",
       "      <th>1</th>\n",
       "      <th>2</th>\n",
       "      <th>3</th>\n",
       "      <th>4</th>\n",
       "      <th>5</th>\n",
       "      <th>6</th>\n",
       "      <th>7</th>\n",
       "      <th>8</th>\n",
       "      <th>9</th>\n",
       "      <th>...</th>\n",
       "      <th>490</th>\n",
       "      <th>491</th>\n",
       "      <th>492</th>\n",
       "      <th>493</th>\n",
       "      <th>494</th>\n",
       "      <th>495</th>\n",
       "      <th>496</th>\n",
       "      <th>497</th>\n",
       "      <th>498</th>\n",
       "      <th>499</th>\n",
       "    </tr>\n",
       "  </thead>\n",
       "  <tbody>\n",
       "    <tr>\n",
       "      <th>0</th>\n",
       "      <td>1.000000</td>\n",
       "      <td>1.000000</td>\n",
       "      <td>1.000000</td>\n",
       "      <td>1.000000</td>\n",
       "      <td>1.000000</td>\n",
       "      <td>1.000000</td>\n",
       "      <td>1.000000</td>\n",
       "      <td>1.000000</td>\n",
       "      <td>1.000000</td>\n",
       "      <td>1.000000</td>\n",
       "      <td>...</td>\n",
       "      <td>1.000000</td>\n",
       "      <td>1.000000</td>\n",
       "      <td>1.000000</td>\n",
       "      <td>1.000000</td>\n",
       "      <td>1.000000</td>\n",
       "      <td>1.000000</td>\n",
       "      <td>1.000000</td>\n",
       "      <td>1.000000</td>\n",
       "      <td>1.000000</td>\n",
       "      <td>1.000000</td>\n",
       "    </tr>\n",
       "    <tr>\n",
       "      <th>1</th>\n",
       "      <td>0.971926</td>\n",
       "      <td>1.011352</td>\n",
       "      <td>0.997501</td>\n",
       "      <td>1.003237</td>\n",
       "      <td>0.983098</td>\n",
       "      <td>1.000287</td>\n",
       "      <td>0.982071</td>\n",
       "      <td>1.006102</td>\n",
       "      <td>0.994789</td>\n",
       "      <td>1.013419</td>\n",
       "      <td>...</td>\n",
       "      <td>0.996278</td>\n",
       "      <td>0.989961</td>\n",
       "      <td>1.013078</td>\n",
       "      <td>0.987871</td>\n",
       "      <td>0.999964</td>\n",
       "      <td>1.017017</td>\n",
       "      <td>0.997081</td>\n",
       "      <td>0.991968</td>\n",
       "      <td>1.012168</td>\n",
       "      <td>0.993590</td>\n",
       "    </tr>\n",
       "    <tr>\n",
       "      <th>2</th>\n",
       "      <td>0.978972</td>\n",
       "      <td>1.003399</td>\n",
       "      <td>0.993341</td>\n",
       "      <td>0.992823</td>\n",
       "      <td>0.972940</td>\n",
       "      <td>1.005474</td>\n",
       "      <td>0.978729</td>\n",
       "      <td>1.017472</td>\n",
       "      <td>0.987348</td>\n",
       "      <td>1.008046</td>\n",
       "      <td>...</td>\n",
       "      <td>1.005699</td>\n",
       "      <td>0.996775</td>\n",
       "      <td>1.018806</td>\n",
       "      <td>0.999638</td>\n",
       "      <td>1.003189</td>\n",
       "      <td>1.017163</td>\n",
       "      <td>0.997831</td>\n",
       "      <td>0.989614</td>\n",
       "      <td>1.010156</td>\n",
       "      <td>0.993576</td>\n",
       "    </tr>\n",
       "    <tr>\n",
       "      <th>3</th>\n",
       "      <td>0.980479</td>\n",
       "      <td>0.995883</td>\n",
       "      <td>1.007216</td>\n",
       "      <td>1.001745</td>\n",
       "      <td>0.961410</td>\n",
       "      <td>1.010511</td>\n",
       "      <td>0.997577</td>\n",
       "      <td>1.013246</td>\n",
       "      <td>1.013021</td>\n",
       "      <td>1.009724</td>\n",
       "      <td>...</td>\n",
       "      <td>1.009183</td>\n",
       "      <td>0.995732</td>\n",
       "      <td>1.030171</td>\n",
       "      <td>0.978630</td>\n",
       "      <td>0.999627</td>\n",
       "      <td>1.036713</td>\n",
       "      <td>0.995508</td>\n",
       "      <td>0.998044</td>\n",
       "      <td>1.012784</td>\n",
       "      <td>0.985153</td>\n",
       "    </tr>\n",
       "    <tr>\n",
       "      <th>4</th>\n",
       "      <td>0.980936</td>\n",
       "      <td>0.995583</td>\n",
       "      <td>1.006776</td>\n",
       "      <td>1.009205</td>\n",
       "      <td>0.973055</td>\n",
       "      <td>1.026170</td>\n",
       "      <td>0.983849</td>\n",
       "      <td>1.009479</td>\n",
       "      <td>1.016857</td>\n",
       "      <td>0.995042</td>\n",
       "      <td>...</td>\n",
       "      <td>0.996789</td>\n",
       "      <td>1.001706</td>\n",
       "      <td>1.026850</td>\n",
       "      <td>0.967770</td>\n",
       "      <td>0.999364</td>\n",
       "      <td>1.046522</td>\n",
       "      <td>1.013966</td>\n",
       "      <td>1.007089</td>\n",
       "      <td>0.988060</td>\n",
       "      <td>0.971738</td>\n",
       "    </tr>\n",
       "    <tr>\n",
       "      <th>...</th>\n",
       "      <td>...</td>\n",
       "      <td>...</td>\n",
       "      <td>...</td>\n",
       "      <td>...</td>\n",
       "      <td>...</td>\n",
       "      <td>...</td>\n",
       "      <td>...</td>\n",
       "      <td>...</td>\n",
       "      <td>...</td>\n",
       "      <td>...</td>\n",
       "      <td>...</td>\n",
       "      <td>...</td>\n",
       "      <td>...</td>\n",
       "      <td>...</td>\n",
       "      <td>...</td>\n",
       "      <td>...</td>\n",
       "      <td>...</td>\n",
       "      <td>...</td>\n",
       "      <td>...</td>\n",
       "      <td>...</td>\n",
       "      <td>...</td>\n",
       "    </tr>\n",
       "    <tr>\n",
       "      <th>2516</th>\n",
       "      <td>4.258461</td>\n",
       "      <td>5.462201</td>\n",
       "      <td>10.145224</td>\n",
       "      <td>6.968787</td>\n",
       "      <td>2.365900</td>\n",
       "      <td>3.339902</td>\n",
       "      <td>6.744222</td>\n",
       "      <td>2.159439</td>\n",
       "      <td>10.511012</td>\n",
       "      <td>3.855363</td>\n",
       "      <td>...</td>\n",
       "      <td>2.121279</td>\n",
       "      <td>7.491554</td>\n",
       "      <td>7.302693</td>\n",
       "      <td>1.522161</td>\n",
       "      <td>4.623985</td>\n",
       "      <td>3.888563</td>\n",
       "      <td>8.039982</td>\n",
       "      <td>8.852323</td>\n",
       "      <td>2.024568</td>\n",
       "      <td>10.116359</td>\n",
       "    </tr>\n",
       "    <tr>\n",
       "      <th>2517</th>\n",
       "      <td>4.258463</td>\n",
       "      <td>5.510451</td>\n",
       "      <td>10.174257</td>\n",
       "      <td>7.034887</td>\n",
       "      <td>2.325654</td>\n",
       "      <td>3.325878</td>\n",
       "      <td>6.741306</td>\n",
       "      <td>2.191423</td>\n",
       "      <td>10.851289</td>\n",
       "      <td>3.826656</td>\n",
       "      <td>...</td>\n",
       "      <td>2.086824</td>\n",
       "      <td>7.695436</td>\n",
       "      <td>7.389859</td>\n",
       "      <td>1.535659</td>\n",
       "      <td>4.622973</td>\n",
       "      <td>3.859859</td>\n",
       "      <td>8.090711</td>\n",
       "      <td>8.819366</td>\n",
       "      <td>2.047389</td>\n",
       "      <td>10.068305</td>\n",
       "    </tr>\n",
       "    <tr>\n",
       "      <th>2518</th>\n",
       "      <td>4.180416</td>\n",
       "      <td>5.464237</td>\n",
       "      <td>10.278309</td>\n",
       "      <td>7.048260</td>\n",
       "      <td>2.305311</td>\n",
       "      <td>3.353294</td>\n",
       "      <td>6.751115</td>\n",
       "      <td>2.185761</td>\n",
       "      <td>10.828130</td>\n",
       "      <td>3.830483</td>\n",
       "      <td>...</td>\n",
       "      <td>2.091054</td>\n",
       "      <td>7.583215</td>\n",
       "      <td>7.519145</td>\n",
       "      <td>1.532389</td>\n",
       "      <td>4.598689</td>\n",
       "      <td>3.939977</td>\n",
       "      <td>7.990722</td>\n",
       "      <td>8.783963</td>\n",
       "      <td>2.029456</td>\n",
       "      <td>9.968887</td>\n",
       "    </tr>\n",
       "    <tr>\n",
       "      <th>2519</th>\n",
       "      <td>4.163570</td>\n",
       "      <td>5.454504</td>\n",
       "      <td>10.312551</td>\n",
       "      <td>7.122817</td>\n",
       "      <td>2.300377</td>\n",
       "      <td>3.349500</td>\n",
       "      <td>6.815140</td>\n",
       "      <td>2.218426</td>\n",
       "      <td>10.833482</td>\n",
       "      <td>3.777624</td>\n",
       "      <td>...</td>\n",
       "      <td>2.113406</td>\n",
       "      <td>7.624225</td>\n",
       "      <td>7.436111</td>\n",
       "      <td>1.529060</td>\n",
       "      <td>4.607133</td>\n",
       "      <td>3.992202</td>\n",
       "      <td>7.965093</td>\n",
       "      <td>8.783260</td>\n",
       "      <td>2.010494</td>\n",
       "      <td>9.968731</td>\n",
       "    </tr>\n",
       "    <tr>\n",
       "      <th>2520</th>\n",
       "      <td>4.126836</td>\n",
       "      <td>5.447019</td>\n",
       "      <td>10.356479</td>\n",
       "      <td>7.138091</td>\n",
       "      <td>2.271782</td>\n",
       "      <td>3.385914</td>\n",
       "      <td>7.039809</td>\n",
       "      <td>2.226354</td>\n",
       "      <td>10.701341</td>\n",
       "      <td>3.753924</td>\n",
       "      <td>...</td>\n",
       "      <td>2.124574</td>\n",
       "      <td>7.733751</td>\n",
       "      <td>7.588462</td>\n",
       "      <td>1.541661</td>\n",
       "      <td>4.630318</td>\n",
       "      <td>3.998213</td>\n",
       "      <td>7.908141</td>\n",
       "      <td>8.878503</td>\n",
       "      <td>2.005790</td>\n",
       "      <td>9.943012</td>\n",
       "    </tr>\n",
       "  </tbody>\n",
       "</table>\n",
       "<p>2521 rows × 500 columns</p>\n",
       "</div>"
      ],
      "text/plain": [
       "           0         1          2         3         4         5         6    \\\n",
       "0     1.000000  1.000000   1.000000  1.000000  1.000000  1.000000  1.000000   \n",
       "1     0.971926  1.011352   0.997501  1.003237  0.983098  1.000287  0.982071   \n",
       "2     0.978972  1.003399   0.993341  0.992823  0.972940  1.005474  0.978729   \n",
       "3     0.980479  0.995883   1.007216  1.001745  0.961410  1.010511  0.997577   \n",
       "4     0.980936  0.995583   1.006776  1.009205  0.973055  1.026170  0.983849   \n",
       "...        ...       ...        ...       ...       ...       ...       ...   \n",
       "2516  4.258461  5.462201  10.145224  6.968787  2.365900  3.339902  6.744222   \n",
       "2517  4.258463  5.510451  10.174257  7.034887  2.325654  3.325878  6.741306   \n",
       "2518  4.180416  5.464237  10.278309  7.048260  2.305311  3.353294  6.751115   \n",
       "2519  4.163570  5.454504  10.312551  7.122817  2.300377  3.349500  6.815140   \n",
       "2520  4.126836  5.447019  10.356479  7.138091  2.271782  3.385914  7.039809   \n",
       "\n",
       "           7          8         9    ...       490       491       492  \\\n",
       "0     1.000000   1.000000  1.000000  ...  1.000000  1.000000  1.000000   \n",
       "1     1.006102   0.994789  1.013419  ...  0.996278  0.989961  1.013078   \n",
       "2     1.017472   0.987348  1.008046  ...  1.005699  0.996775  1.018806   \n",
       "3     1.013246   1.013021  1.009724  ...  1.009183  0.995732  1.030171   \n",
       "4     1.009479   1.016857  0.995042  ...  0.996789  1.001706  1.026850   \n",
       "...        ...        ...       ...  ...       ...       ...       ...   \n",
       "2516  2.159439  10.511012  3.855363  ...  2.121279  7.491554  7.302693   \n",
       "2517  2.191423  10.851289  3.826656  ...  2.086824  7.695436  7.389859   \n",
       "2518  2.185761  10.828130  3.830483  ...  2.091054  7.583215  7.519145   \n",
       "2519  2.218426  10.833482  3.777624  ...  2.113406  7.624225  7.436111   \n",
       "2520  2.226354  10.701341  3.753924  ...  2.124574  7.733751  7.588462   \n",
       "\n",
       "           493       494       495       496       497       498        499  \n",
       "0     1.000000  1.000000  1.000000  1.000000  1.000000  1.000000   1.000000  \n",
       "1     0.987871  0.999964  1.017017  0.997081  0.991968  1.012168   0.993590  \n",
       "2     0.999638  1.003189  1.017163  0.997831  0.989614  1.010156   0.993576  \n",
       "3     0.978630  0.999627  1.036713  0.995508  0.998044  1.012784   0.985153  \n",
       "4     0.967770  0.999364  1.046522  1.013966  1.007089  0.988060   0.971738  \n",
       "...        ...       ...       ...       ...       ...       ...        ...  \n",
       "2516  1.522161  4.623985  3.888563  8.039982  8.852323  2.024568  10.116359  \n",
       "2517  1.535659  4.622973  3.859859  8.090711  8.819366  2.047389  10.068305  \n",
       "2518  1.532389  4.598689  3.939977  7.990722  8.783963  2.029456   9.968887  \n",
       "2519  1.529060  4.607133  3.992202  7.965093  8.783260  2.010494   9.968731  \n",
       "2520  1.541661  4.630318  3.998213  7.908141  8.878503  2.005790   9.943012  \n",
       "\n",
       "[2521 rows x 500 columns]"
      ]
     },
     "execution_count": 38,
     "metadata": {},
     "output_type": "execute_result"
    }
   ],
   "source": [
    "# Run the Monte Carlo simulation to forecast 10 years cumulative returns\n",
    "MC_ten_year.calc_cumulative_return()\n"
   ]
  },
  {
   "cell_type": "code",
   "execution_count": 39,
   "metadata": {},
   "outputs": [
    {
     "data": {
      "image/png": "[encoded data removed]",
      "text/plain": [
       "<Figure size 432x288 with 1 Axes>"
      ]
     },
     "metadata": {
      "needs_background": "light"
     },
     "output_type": "display_data"
    }
   ],
   "source": [
    "# Visualize the 10-year Monte Carlo simulation by creating an\n",
    "# overlay line plot\n",
    "ten_year_sim_line_plot = MC_ten_year.plot_simulation()\n"
   ]
  },
  {
   "cell_type": "code",
   "execution_count": 40,
   "metadata": {},
   "outputs": [
    {
     "data": {
      "image/png": "[encoded data removed]",
      "text/plain": [
       "<Figure size 432x288 with 1 Axes>"
      ]
     },
     "metadata": {
      "needs_background": "light"
     },
     "output_type": "display_data"
    }
   ],
   "source": [
    "# Visualize the probability distribution of the 10-year Monte Carlo simulation \n",
    "# by plotting a histogram\n",
    "MC_sim_dist_plot = MC_ten_year.plot_distribution()\n"
   ]
  },
  {
   "cell_type": "code",
   "execution_count": 41,
   "metadata": {},
   "outputs": [
    {
     "name": "stdout",
     "output_type": "stream",
     "text": [
      "count           500.000000\n",
      "mean              4.924847\n",
      "std               2.851069\n",
      "min               0.843934\n",
      "25%               3.000475\n",
      "50%               4.186056\n",
      "75%               6.207993\n",
      "max              21.497511\n",
      "95% CI Lower      1.486074\n",
      "95% CI Upper     11.938148\n",
      "Name: 2520, dtype: float64\n"
     ]
    }
   ],
   "source": [
    "# Generate summary statistics from the 10-year Monte Carlo simulation results\n",
    "# Save the results as a variable\n",
    "MC_summary_statistics = MC_ten_year.summarize_cumulative_return()\n",
    "\n",
    "\n",
    "# Review the 10-year Monte Carlo summary statistics\n",
    "print(MC_summary_statistics)"
   ]
  },
  {
   "cell_type": "markdown",
   "metadata": {},
   "source": [
    "### Answer the following questions:"
   ]
  },
  {
   "cell_type": "markdown",
   "metadata": {},
   "source": [
    "#### Question: Using the current value of only the stock and bond portion of the member's portfolio and the summary statistics that you generated from the new Monte Carlo simulation, what are the lower and upper bounds for the expected value of the portfolio (with the new weights) with a 95% confidence interval?"
   ]
  },
  {
   "cell_type": "code",
   "execution_count": 42,
   "metadata": {},
   "outputs": [
    {
     "name": "stdout",
     "output_type": "stream",
     "text": [
      "The total current balance of the stock and bond portfolio is: $ 70973.20\n"
     ]
    }
   ],
   "source": [
    "# Print the current balance of the stock and bond portion of the members portfolio\n",
    "print(f\"The total current balance of the stock and bond portfolio is: ${total_stocks_bonds: .2f}\")\n"
   ]
  },
  {
   "cell_type": "code",
   "execution_count": 43,
   "metadata": {},
   "outputs": [
    {
     "name": "stdout",
     "output_type": "stream",
     "text": [
      "Using a 95% confidence interval, the lowest expected value of the portfolio in 10 years would be $ 105471.42, and the highest expected value would be $ 847288.57\n"
     ]
    }
   ],
   "source": [
    "# Use the lower and upper `95%` confidence intervals to calculate the range of the possible outcomes for the current stock/bond portfolio\n",
    "ci_lower_ten_cumulative_return = total_stocks_bonds * MC_summary_statistics[8]\n",
    "ci_upper_ten_cumulative_return = total_stocks_bonds * MC_summary_statistics[9]\n",
    "\n",
    "# Print the result of your calculations\n",
    "print(f\"Using a 95% confidence interval, the lowest expected value of the portfolio in 10 years would be ${ci_lower_ten_cumulative_return: .2f}, and the highest expected value would be ${ci_upper_ten_cumulative_return: .2f}\")\n",
    "\n"
   ]
  },
  {
   "cell_type": "markdown",
   "metadata": {},
   "source": [
    "#### Question: Will weighting the portfolio more heavily to stocks allow the credit union members to retire after only 10 years?"
   ]
  },
  {
   "cell_type": "markdown",
   "metadata": {},
   "source": [
    "**Answer** #The question on whether a credit member can retire is dependent on several factors which are outside of the scope of this analysis; such as debt, expenses, other income, and how long they need their money to last (life expectancy). What we can determine is that by shifting to a more heavily equity weighted portfolio, the volatility of expected returns increases. So, the opportunity is there to acheive a greater return in a shorter timeframe, however those returns are not guaranteed as we can see with the lower end result which results in only around $35k of gains over 10 years."
   ]
  },
  {
   "cell_type": "code",
   "execution_count": null,
   "metadata": {},
   "outputs": [],
   "source": []
  }
 ],
 "metadata": {
  "kernelspec": {
   "display_name": "Python (dev)",
   "language": "python",
   "name": "dev"
  },
  "language_info": {
   "codemirror_mode": {
    "name": "ipython",
    "version": 3
   },
   "file_extension": ".py",
   "mimetype": "text/x-python",
   "name": "python",
   "nbconvert_exporter": "python",
   "pygments_lexer": "ipython3",
   "version": "3.9.7"
  }
 },
 "nbformat": 4,
 "nbformat_minor": 4
}
